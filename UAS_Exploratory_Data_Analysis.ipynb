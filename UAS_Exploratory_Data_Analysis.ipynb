{
  "nbformat": 4,
  "nbformat_minor": 0,
  "metadata": {
    "colab": {
      "provenance": []
    },
    "kernelspec": {
      "name": "python3",
      "display_name": "Python 3"
    },
    "language_info": {
      "name": "python"
    }
  },
  "cells": [
    {
      "cell_type": "code",
      "execution_count": 1,
      "metadata": {
        "colab": {
          "base_uri": "https://localhost:8080/"
        },
        "id": "T1vAwjMbPRNE",
        "outputId": "5a097786-b14f-4777-eee0-e9f36e8397cf"
      },
      "outputs": [
        {
          "output_type": "stream",
          "name": "stdout",
          "text": [
            "Mounted at /content/drive\n"
          ]
        }
      ],
      "source": [
        "from google.colab import drive\n",
        "drive.mount('/content/drive')"
      ]
    },
    {
      "cell_type": "code",
      "source": [
        "df.shape"
      ],
      "metadata": {
        "colab": {
          "base_uri": "https://localhost:8080/"
        },
        "id": "yZuL7EK9Pptk",
        "outputId": "64a9f440-4cdd-4bd0-d31b-3c1d806ce034"
      },
      "execution_count": 12,
      "outputs": [
        {
          "output_type": "execute_result",
          "data": {
            "text/plain": [
              "(1338, 7)"
            ]
          },
          "metadata": {},
          "execution_count": 12
        }
      ]
    },
    {
      "cell_type": "code",
      "source": [
        "df.describe()"
      ],
      "metadata": {
        "colab": {
          "base_uri": "https://localhost:8080/",
          "height": 300
        },
        "id": "6vrKBYu9TBDX",
        "outputId": "cddc70af-7ea7-44b2-be94-aebb147f6a02"
      },
      "execution_count": 13,
      "outputs": [
        {
          "output_type": "execute_result",
          "data": {
            "text/plain": [
              "               age          bmi     children       charges\n",
              "count  1338.000000  1338.000000  1338.000000   1338.000000\n",
              "mean     39.207025    30.663397     1.094918  13270.422265\n",
              "std      14.049960     6.098187     1.205493  12110.011237\n",
              "min      18.000000    15.960000     0.000000   1121.873900\n",
              "25%      27.000000    26.296250     0.000000   4740.287150\n",
              "50%      39.000000    30.400000     1.000000   9382.033000\n",
              "75%      51.000000    34.693750     2.000000  16639.912515\n",
              "max      64.000000    53.130000     5.000000  63770.428010"
            ],
            "text/html": [
              "\n",
              "  <div id=\"df-233b1e4d-f393-4e0b-83d5-48a129b53839\" class=\"colab-df-container\">\n",
              "    <div>\n",
              "<style scoped>\n",
              "    .dataframe tbody tr th:only-of-type {\n",
              "        vertical-align: middle;\n",
              "    }\n",
              "\n",
              "    .dataframe tbody tr th {\n",
              "        vertical-align: top;\n",
              "    }\n",
              "\n",
              "    .dataframe thead th {\n",
              "        text-align: right;\n",
              "    }\n",
              "</style>\n",
              "<table border=\"1\" class=\"dataframe\">\n",
              "  <thead>\n",
              "    <tr style=\"text-align: right;\">\n",
              "      <th></th>\n",
              "      <th>age</th>\n",
              "      <th>bmi</th>\n",
              "      <th>children</th>\n",
              "      <th>charges</th>\n",
              "    </tr>\n",
              "  </thead>\n",
              "  <tbody>\n",
              "    <tr>\n",
              "      <th>count</th>\n",
              "      <td>1338.000000</td>\n",
              "      <td>1338.000000</td>\n",
              "      <td>1338.000000</td>\n",
              "      <td>1338.000000</td>\n",
              "    </tr>\n",
              "    <tr>\n",
              "      <th>mean</th>\n",
              "      <td>39.207025</td>\n",
              "      <td>30.663397</td>\n",
              "      <td>1.094918</td>\n",
              "      <td>13270.422265</td>\n",
              "    </tr>\n",
              "    <tr>\n",
              "      <th>std</th>\n",
              "      <td>14.049960</td>\n",
              "      <td>6.098187</td>\n",
              "      <td>1.205493</td>\n",
              "      <td>12110.011237</td>\n",
              "    </tr>\n",
              "    <tr>\n",
              "      <th>min</th>\n",
              "      <td>18.000000</td>\n",
              "      <td>15.960000</td>\n",
              "      <td>0.000000</td>\n",
              "      <td>1121.873900</td>\n",
              "    </tr>\n",
              "    <tr>\n",
              "      <th>25%</th>\n",
              "      <td>27.000000</td>\n",
              "      <td>26.296250</td>\n",
              "      <td>0.000000</td>\n",
              "      <td>4740.287150</td>\n",
              "    </tr>\n",
              "    <tr>\n",
              "      <th>50%</th>\n",
              "      <td>39.000000</td>\n",
              "      <td>30.400000</td>\n",
              "      <td>1.000000</td>\n",
              "      <td>9382.033000</td>\n",
              "    </tr>\n",
              "    <tr>\n",
              "      <th>75%</th>\n",
              "      <td>51.000000</td>\n",
              "      <td>34.693750</td>\n",
              "      <td>2.000000</td>\n",
              "      <td>16639.912515</td>\n",
              "    </tr>\n",
              "    <tr>\n",
              "      <th>max</th>\n",
              "      <td>64.000000</td>\n",
              "      <td>53.130000</td>\n",
              "      <td>5.000000</td>\n",
              "      <td>63770.428010</td>\n",
              "    </tr>\n",
              "  </tbody>\n",
              "</table>\n",
              "</div>\n",
              "    <div class=\"colab-df-buttons\">\n",
              "\n",
              "  <div class=\"colab-df-container\">\n",
              "    <button class=\"colab-df-convert\" onclick=\"convertToInteractive('df-233b1e4d-f393-4e0b-83d5-48a129b53839')\"\n",
              "            title=\"Convert this dataframe to an interactive table.\"\n",
              "            style=\"display:none;\">\n",
              "\n",
              "  <svg xmlns=\"http://www.w3.org/2000/svg\" height=\"24px\" viewBox=\"0 -960 960 960\">\n",
              "    <path d=\"M120-120v-720h720v720H120Zm60-500h600v-160H180v160Zm220 220h160v-160H400v160Zm0 220h160v-160H400v160ZM180-400h160v-160H180v160Zm440 0h160v-160H620v160ZM180-180h160v-160H180v160Zm440 0h160v-160H620v160Z\"/>\n",
              "  </svg>\n",
              "    </button>\n",
              "\n",
              "  <style>\n",
              "    .colab-df-container {\n",
              "      display:flex;\n",
              "      gap: 12px;\n",
              "    }\n",
              "\n",
              "    .colab-df-convert {\n",
              "      background-color: #E8F0FE;\n",
              "      border: none;\n",
              "      border-radius: 50%;\n",
              "      cursor: pointer;\n",
              "      display: none;\n",
              "      fill: #1967D2;\n",
              "      height: 32px;\n",
              "      padding: 0 0 0 0;\n",
              "      width: 32px;\n",
              "    }\n",
              "\n",
              "    .colab-df-convert:hover {\n",
              "      background-color: #E2EBFA;\n",
              "      box-shadow: 0px 1px 2px rgba(60, 64, 67, 0.3), 0px 1px 3px 1px rgba(60, 64, 67, 0.15);\n",
              "      fill: #174EA6;\n",
              "    }\n",
              "\n",
              "    .colab-df-buttons div {\n",
              "      margin-bottom: 4px;\n",
              "    }\n",
              "\n",
              "    [theme=dark] .colab-df-convert {\n",
              "      background-color: #3B4455;\n",
              "      fill: #D2E3FC;\n",
              "    }\n",
              "\n",
              "    [theme=dark] .colab-df-convert:hover {\n",
              "      background-color: #434B5C;\n",
              "      box-shadow: 0px 1px 3px 1px rgba(0, 0, 0, 0.15);\n",
              "      filter: drop-shadow(0px 1px 2px rgba(0, 0, 0, 0.3));\n",
              "      fill: #FFFFFF;\n",
              "    }\n",
              "  </style>\n",
              "\n",
              "    <script>\n",
              "      const buttonEl =\n",
              "        document.querySelector('#df-233b1e4d-f393-4e0b-83d5-48a129b53839 button.colab-df-convert');\n",
              "      buttonEl.style.display =\n",
              "        google.colab.kernel.accessAllowed ? 'block' : 'none';\n",
              "\n",
              "      async function convertToInteractive(key) {\n",
              "        const element = document.querySelector('#df-233b1e4d-f393-4e0b-83d5-48a129b53839');\n",
              "        const dataTable =\n",
              "          await google.colab.kernel.invokeFunction('convertToInteractive',\n",
              "                                                    [key], {});\n",
              "        if (!dataTable) return;\n",
              "\n",
              "        const docLinkHtml = 'Like what you see? Visit the ' +\n",
              "          '<a target=\"_blank\" href=https://colab.research.google.com/notebooks/data_table.ipynb>data table notebook</a>'\n",
              "          + ' to learn more about interactive tables.';\n",
              "        element.innerHTML = '';\n",
              "        dataTable['output_type'] = 'display_data';\n",
              "        await google.colab.output.renderOutput(dataTable, element);\n",
              "        const docLink = document.createElement('div');\n",
              "        docLink.innerHTML = docLinkHtml;\n",
              "        element.appendChild(docLink);\n",
              "      }\n",
              "    </script>\n",
              "  </div>\n",
              "\n",
              "\n",
              "<div id=\"df-f8824a6e-2835-4f4f-b33d-7da0f3e60703\">\n",
              "  <button class=\"colab-df-quickchart\" onclick=\"quickchart('df-f8824a6e-2835-4f4f-b33d-7da0f3e60703')\"\n",
              "            title=\"Suggest charts\"\n",
              "            style=\"display:none;\">\n",
              "\n",
              "<svg xmlns=\"http://www.w3.org/2000/svg\" height=\"24px\"viewBox=\"0 0 24 24\"\n",
              "     width=\"24px\">\n",
              "    <g>\n",
              "        <path d=\"M19 3H5c-1.1 0-2 .9-2 2v14c0 1.1.9 2 2 2h14c1.1 0 2-.9 2-2V5c0-1.1-.9-2-2-2zM9 17H7v-7h2v7zm4 0h-2V7h2v10zm4 0h-2v-4h2v4z\"/>\n",
              "    </g>\n",
              "</svg>\n",
              "  </button>\n",
              "\n",
              "<style>\n",
              "  .colab-df-quickchart {\n",
              "      --bg-color: #E8F0FE;\n",
              "      --fill-color: #1967D2;\n",
              "      --hover-bg-color: #E2EBFA;\n",
              "      --hover-fill-color: #174EA6;\n",
              "      --disabled-fill-color: #AAA;\n",
              "      --disabled-bg-color: #DDD;\n",
              "  }\n",
              "\n",
              "  [theme=dark] .colab-df-quickchart {\n",
              "      --bg-color: #3B4455;\n",
              "      --fill-color: #D2E3FC;\n",
              "      --hover-bg-color: #434B5C;\n",
              "      --hover-fill-color: #FFFFFF;\n",
              "      --disabled-bg-color: #3B4455;\n",
              "      --disabled-fill-color: #666;\n",
              "  }\n",
              "\n",
              "  .colab-df-quickchart {\n",
              "    background-color: var(--bg-color);\n",
              "    border: none;\n",
              "    border-radius: 50%;\n",
              "    cursor: pointer;\n",
              "    display: none;\n",
              "    fill: var(--fill-color);\n",
              "    height: 32px;\n",
              "    padding: 0;\n",
              "    width: 32px;\n",
              "  }\n",
              "\n",
              "  .colab-df-quickchart:hover {\n",
              "    background-color: var(--hover-bg-color);\n",
              "    box-shadow: 0 1px 2px rgba(60, 64, 67, 0.3), 0 1px 3px 1px rgba(60, 64, 67, 0.15);\n",
              "    fill: var(--button-hover-fill-color);\n",
              "  }\n",
              "\n",
              "  .colab-df-quickchart-complete:disabled,\n",
              "  .colab-df-quickchart-complete:disabled:hover {\n",
              "    background-color: var(--disabled-bg-color);\n",
              "    fill: var(--disabled-fill-color);\n",
              "    box-shadow: none;\n",
              "  }\n",
              "\n",
              "  .colab-df-spinner {\n",
              "    border: 2px solid var(--fill-color);\n",
              "    border-color: transparent;\n",
              "    border-bottom-color: var(--fill-color);\n",
              "    animation:\n",
              "      spin 1s steps(1) infinite;\n",
              "  }\n",
              "\n",
              "  @keyframes spin {\n",
              "    0% {\n",
              "      border-color: transparent;\n",
              "      border-bottom-color: var(--fill-color);\n",
              "      border-left-color: var(--fill-color);\n",
              "    }\n",
              "    20% {\n",
              "      border-color: transparent;\n",
              "      border-left-color: var(--fill-color);\n",
              "      border-top-color: var(--fill-color);\n",
              "    }\n",
              "    30% {\n",
              "      border-color: transparent;\n",
              "      border-left-color: var(--fill-color);\n",
              "      border-top-color: var(--fill-color);\n",
              "      border-right-color: var(--fill-color);\n",
              "    }\n",
              "    40% {\n",
              "      border-color: transparent;\n",
              "      border-right-color: var(--fill-color);\n",
              "      border-top-color: var(--fill-color);\n",
              "    }\n",
              "    60% {\n",
              "      border-color: transparent;\n",
              "      border-right-color: var(--fill-color);\n",
              "    }\n",
              "    80% {\n",
              "      border-color: transparent;\n",
              "      border-right-color: var(--fill-color);\n",
              "      border-bottom-color: var(--fill-color);\n",
              "    }\n",
              "    90% {\n",
              "      border-color: transparent;\n",
              "      border-bottom-color: var(--fill-color);\n",
              "    }\n",
              "  }\n",
              "</style>\n",
              "\n",
              "  <script>\n",
              "    async function quickchart(key) {\n",
              "      const quickchartButtonEl =\n",
              "        document.querySelector('#' + key + ' button');\n",
              "      quickchartButtonEl.disabled = true;  // To prevent multiple clicks.\n",
              "      quickchartButtonEl.classList.add('colab-df-spinner');\n",
              "      try {\n",
              "        const charts = await google.colab.kernel.invokeFunction(\n",
              "            'suggestCharts', [key], {});\n",
              "      } catch (error) {\n",
              "        console.error('Error during call to suggestCharts:', error);\n",
              "      }\n",
              "      quickchartButtonEl.classList.remove('colab-df-spinner');\n",
              "      quickchartButtonEl.classList.add('colab-df-quickchart-complete');\n",
              "    }\n",
              "    (() => {\n",
              "      let quickchartButtonEl =\n",
              "        document.querySelector('#df-f8824a6e-2835-4f4f-b33d-7da0f3e60703 button');\n",
              "      quickchartButtonEl.style.display =\n",
              "        google.colab.kernel.accessAllowed ? 'block' : 'none';\n",
              "    })();\n",
              "  </script>\n",
              "</div>\n",
              "    </div>\n",
              "  </div>\n"
            ]
          },
          "metadata": {},
          "execution_count": 13
        }
      ]
    },
    {
      "cell_type": "code",
      "source": [
        "# Print the count of non-empty values for each feature\n",
        "print('age: ' + str(df.age.count()))\n",
        "print('sex: ' + str(df.sex.count()))\n",
        "print('bmi: ' + str(df.bmi.count()))\n",
        "print('children: ' + str(df.children.count()))\n",
        "print('smoker: ' + str(df.smoker.count()))\n",
        "print('region: ' + str(df.region.count()))\n",
        "print('charges: ' + str(df.charges.count()))\n",
        "\n",
        "print('\\n')\n",
        "\n",
        "# Print the number of unique values for each feature\n",
        "print('age: ' + str(df.age.nunique()))\n",
        "print('sex: ' + str(df.sex.nunique()))\n",
        "print('bmi: ' + str(df.bmi.nunique()))\n",
        "print('children: ' + str(df.children.nunique()))\n",
        "print('smoker: ' + str(df.smoker.nunique()))\n",
        "print('region: ' + str(df.region.nunique()))\n",
        "print('charges: ' + str(df.charges.nunique()))"
      ],
      "metadata": {
        "colab": {
          "base_uri": "https://localhost:8080/"
        },
        "id": "LW8vLKk5UAMf",
        "outputId": "bcaf7f29-e6bf-4f15-d9df-1a7ce0a80ea5"
      },
      "execution_count": 14,
      "outputs": [
        {
          "output_type": "stream",
          "name": "stdout",
          "text": [
            "age: 1338\n",
            "sex: 1338\n",
            "bmi: 1338\n",
            "children: 1338\n",
            "smoker: 1338\n",
            "region: 1338\n",
            "charges: 1338\n",
            "\n",
            "\n",
            "age: 47\n",
            "sex: 2\n",
            "bmi: 548\n",
            "children: 6\n",
            "smoker: 2\n",
            "region: 4\n",
            "charges: 1337\n"
          ]
        }
      ]
    },
    {
      "cell_type": "code",
      "source": [
        "# Print the column data types one-at-a-time by name:\n",
        "print(df.nunique())\n",
        "print()\n",
        "print(df.dtypes)"
      ],
      "metadata": {
        "colab": {
          "base_uri": "https://localhost:8080/"
        },
        "id": "QElWisWSUC-2",
        "outputId": "d92b7b65-c6d5-4d98-84ea-6a23fe275969"
      },
      "execution_count": 15,
      "outputs": [
        {
          "output_type": "stream",
          "name": "stdout",
          "text": [
            "age           47\n",
            "sex            2\n",
            "bmi          548\n",
            "children       6\n",
            "smoker         2\n",
            "region         4\n",
            "charges     1337\n",
            "dtype: int64\n",
            "\n",
            "age           int64\n",
            "sex          object\n",
            "bmi         float64\n",
            "children      int64\n",
            "smoker       object\n",
            "region       object\n",
            "charges     float64\n",
            "dtype: object\n"
          ]
        }
      ]
    },
    {
      "cell_type": "code",
      "source": [
        "print('age: ' + str(df.age.dtype))\n",
        "print('sex: ' + str(df.sex.dtype))\n",
        "print('bmi: ' + str(df.bmi.dtype))\n",
        "print('children: ' + str(df.children.dtype))\n",
        "print('smoker: ' + str(df.smoker.dtype))\n",
        "print('region: ' + str(df.region.dtype))\n",
        "print('charges: ' + str(df.charges.dtype))"
      ],
      "metadata": {
        "colab": {
          "base_uri": "https://localhost:8080/"
        },
        "id": "YVvpOZfIUHDU",
        "outputId": "bd8e3dcc-9269-43b5-e95a-c2d5dc2bce1a"
      },
      "execution_count": 16,
      "outputs": [
        {
          "output_type": "stream",
          "name": "stdout",
          "text": [
            "age: int64\n",
            "sex: object\n",
            "bmi: float64\n",
            "children: int64\n",
            "smoker: object\n",
            "region: object\n",
            "charges: float64\n"
          ]
        }
      ]
    },
    {
      "cell_type": "code",
      "source": [
        "print('age: ' + str(pd.api.types.is_numeric_dtype(df.age)))\n",
        "print('sex: ' + str(pd.api.types.is_numeric_dtype(df.sex)))\n",
        "print('bmi: ' + str(pd.api.types.is_numeric_dtype(df.bmi)))\n",
        "print('children: ' + str(pd.api.types.is_numeric_dtype(df.children)))\n",
        "print('smoker: ' + str(pd.api.types.is_numeric_dtype(df.smoker)))\n",
        "print('region: ' + str(pd.api.types.is_numeric_dtype(df.region)))\n",
        "print('charges: ' + str(pd.api.types.is_numeric_dtype(df.charges)))"
      ],
      "metadata": {
        "colab": {
          "base_uri": "https://localhost:8080/"
        },
        "id": "kuwLNlFPULMG",
        "outputId": "483ef379-773f-4621-c73c-400c68641841"
      },
      "execution_count": 17,
      "outputs": [
        {
          "output_type": "stream",
          "name": "stdout",
          "text": [
            "age: True\n",
            "sex: False\n",
            "bmi: True\n",
            "children: True\n",
            "smoker: False\n",
            "region: False\n",
            "charges: True\n"
          ]
        }
      ]
    },
    {
      "cell_type": "code",
      "source": [
        "print('age: ' + str(df.age.isna().sum()))\n",
        "print('sex: ' + str(df.sex.isna().sum()))\n",
        "print('bmi: ' + str(df.bmi.isna().sum()))\n",
        "print('children: ' + str(df.children.isna().sum()))\n",
        "print('smoker: ' + str(df.smoker.isna().sum()))\n",
        "print('region: ' + str(df.region.isna().sum()))\n",
        "print('charges: ' + str(df.charges.isna().sum()))"
      ],
      "metadata": {
        "colab": {
          "base_uri": "https://localhost:8080/"
        },
        "id": "8WNiG9NAUPZH",
        "outputId": "295e6e22-007e-427e-8120-b1cb1dc5f8ca"
      },
      "execution_count": 18,
      "outputs": [
        {
          "output_type": "stream",
          "name": "stdout",
          "text": [
            "age: 0\n",
            "sex: 0\n",
            "bmi: 0\n",
            "children: 0\n",
            "smoker: 0\n",
            "region: 0\n",
            "charges: 0\n"
          ]
        }
      ]
    },
    {
      "cell_type": "code",
      "source": [
        "myList = [1,2,3,4,5,6,7,8,9,10]\n",
        "print(max(myList))\n",
        "print(min(myList))"
      ],
      "metadata": {
        "colab": {
          "base_uri": "https://localhost:8080/"
        },
        "id": "yOzR2h_HUT5J",
        "outputId": "5a4d33fb-59e3-49af-c7a2-19433f4914a0"
      },
      "execution_count": 19,
      "outputs": [
        {
          "output_type": "stream",
          "name": "stdout",
          "text": [
            "10\n",
            "1\n"
          ]
        }
      ]
    },
    {
      "cell_type": "code",
      "source": [
        "# Using a Python list\n",
        "import numpy as np\n",
        "\n",
        "myList = [1,2,3,4,5,6,7,8,9,10]\n",
        "print(np.quantile(myList, .25))\n",
        "print(np.quantile(myList, .50))\n",
        "print(np.quantile(myList, .75))\n",
        "\n",
        "# Using a Pandas DataFrame column\n",
        "import pandas as pd\n",
        "\n",
        "df = pd.DataFrame(data=[1,2,3,4,5,6,7,8,9,10], columns=['myList'])\n",
        "print(\"\\n\")\n",
        "print(df.myList.quantile(.25))\n",
        "print(df.myList.quantile(.50))\n",
        "print(df.myList.quantile(.75))"
      ],
      "metadata": {
        "colab": {
          "base_uri": "https://localhost:8080/"
        },
        "id": "QtY4S78FUarL",
        "outputId": "9cce0486-c0c0-4fa2-a93f-c198c30cdc40"
      },
      "execution_count": 20,
      "outputs": [
        {
          "output_type": "stream",
          "name": "stdout",
          "text": [
            "3.25\n",
            "5.5\n",
            "7.75\n",
            "\n",
            "\n",
            "3.25\n",
            "5.5\n",
            "7.75\n"
          ]
        }
      ]
    },
    {
      "cell_type": "code",
      "source": [
        "import statistics as stat\n",
        "\n",
        "myList = [1,2,3,4,5,6,7,8,9,10]\n",
        "stat.mean(myList)"
      ],
      "metadata": {
        "colab": {
          "base_uri": "https://localhost:8080/"
        },
        "id": "7_m_sfuxUb_B",
        "outputId": "fff1d4b8-bb6e-4139-b662-8b449b719730"
      },
      "execution_count": 21,
      "outputs": [
        {
          "output_type": "execute_result",
          "data": {
            "text/plain": [
              "5.5"
            ]
          },
          "metadata": {},
          "execution_count": 21
        }
      ]
    },
    {
      "cell_type": "code",
      "source": [
        "import pandas as pd\n",
        "\n",
        "# First we create a dataframe to test this on. Notice that we first add\n",
        "# the data, then specify a series of column headers and row index names\n",
        "# (as opposed to index numbers)\n",
        "df = pd.DataFrame([[10, 20, 30, 40], [7, 14, 21, 28], [55, 15, 8, 12],\n",
        "[15, 14, 1, 8], [7, 1, 1, 8], [5, 4, 9, 2]],\n",
        "columns=['Apple', 'Orange', 'Banana', 'Pear'],\n",
        "index=['Basket1', 'Basket2', 'Basket3', 'Basket4',\n",
        "'Basket5', 'Basket6'])\n",
        "\n",
        "# Now print it to see what it looks like\n",
        "print(df)"
      ],
      "metadata": {
        "colab": {
          "base_uri": "https://localhost:8080/"
        },
        "id": "wNcdPvEdUffJ",
        "outputId": "4cece918-ee37-4b89-809d-fdbfd8e2eb77"
      },
      "execution_count": 22,
      "outputs": [
        {
          "output_type": "stream",
          "name": "stdout",
          "text": [
            "         Apple  Orange  Banana  Pear\n",
            "Basket1     10      20      30    40\n",
            "Basket2      7      14      21    28\n",
            "Basket3     55      15       8    12\n",
            "Basket4     15      14       1     8\n",
            "Basket5      7       1       1     8\n",
            "Basket6      5       4       9     2\n"
          ]
        }
      ]
    },
    {
      "cell_type": "code",
      "source": [
        "# Now we can use pandas built in mean() function to see the mean for each column\n",
        "print(df.mean())"
      ],
      "metadata": {
        "colab": {
          "base_uri": "https://localhost:8080/"
        },
        "id": "Xw812x7dUjX_",
        "outputId": "97ab75cb-6a1f-4362-d0b6-fe09853bcd91"
      },
      "execution_count": 23,
      "outputs": [
        {
          "output_type": "stream",
          "name": "stdout",
          "text": [
            "Apple     16.500000\n",
            "Orange    11.333333\n",
            "Banana    11.666667\n",
            "Pear      16.333333\n",
            "dtype: float64\n"
          ]
        }
      ]
    },
    {
      "cell_type": "code",
      "source": [
        "df.mean(axis=\"columns\")\n",
        "# OR df.mean(axis=1)"
      ],
      "metadata": {
        "colab": {
          "base_uri": "https://localhost:8080/"
        },
        "id": "FYcgW3SgUm2a",
        "outputId": "88551b7e-4e3d-4d96-9bf0-bbe78dc0c7f7"
      },
      "execution_count": 24,
      "outputs": [
        {
          "output_type": "execute_result",
          "data": {
            "text/plain": [
              "Basket1    25.00\n",
              "Basket2    17.50\n",
              "Basket3    22.50\n",
              "Basket4     9.50\n",
              "Basket5     4.25\n",
              "Basket6     5.00\n",
              "dtype: float64"
            ]
          },
          "metadata": {},
          "execution_count": 24
        }
      ]
    },
    {
      "cell_type": "code",
      "source": [
        "# Using the same dataset as above\n",
        "df.median() # or df.median(axis=\"columns\") if you want to view median by columns"
      ],
      "metadata": {
        "colab": {
          "base_uri": "https://localhost:8080/"
        },
        "id": "ZOBTOecfUqbh",
        "outputId": "94f11730-f7aa-4714-f49a-26dc7bac6af1"
      },
      "execution_count": 25,
      "outputs": [
        {
          "output_type": "execute_result",
          "data": {
            "text/plain": [
              "Apple      8.5\n",
              "Orange    14.0\n",
              "Banana     8.5\n",
              "Pear      10.0\n",
              "dtype: float64"
            ]
          },
          "metadata": {},
          "execution_count": 25
        }
      ]
    },
    {
      "cell_type": "code",
      "source": [
        "# Using the same dataset as above\n",
        "df.mode() #Or df.mode(axis=\"columns\") if you want to find the mode by columns instead"
      ],
      "metadata": {
        "colab": {
          "base_uri": "https://localhost:8080/",
          "height": 81
        },
        "id": "y2yVFAGIUuaw",
        "outputId": "5e9a9f15-4ec0-47d6-fa70-3a5df185228d"
      },
      "execution_count": 26,
      "outputs": [
        {
          "output_type": "execute_result",
          "data": {
            "text/plain": [
              "   Apple  Orange  Banana  Pear\n",
              "0      7      14       1     8"
            ],
            "text/html": [
              "\n",
              "  <div id=\"df-9e0d39a0-da9f-43cc-b7be-09586caff902\" class=\"colab-df-container\">\n",
              "    <div>\n",
              "<style scoped>\n",
              "    .dataframe tbody tr th:only-of-type {\n",
              "        vertical-align: middle;\n",
              "    }\n",
              "\n",
              "    .dataframe tbody tr th {\n",
              "        vertical-align: top;\n",
              "    }\n",
              "\n",
              "    .dataframe thead th {\n",
              "        text-align: right;\n",
              "    }\n",
              "</style>\n",
              "<table border=\"1\" class=\"dataframe\">\n",
              "  <thead>\n",
              "    <tr style=\"text-align: right;\">\n",
              "      <th></th>\n",
              "      <th>Apple</th>\n",
              "      <th>Orange</th>\n",
              "      <th>Banana</th>\n",
              "      <th>Pear</th>\n",
              "    </tr>\n",
              "  </thead>\n",
              "  <tbody>\n",
              "    <tr>\n",
              "      <th>0</th>\n",
              "      <td>7</td>\n",
              "      <td>14</td>\n",
              "      <td>1</td>\n",
              "      <td>8</td>\n",
              "    </tr>\n",
              "  </tbody>\n",
              "</table>\n",
              "</div>\n",
              "    <div class=\"colab-df-buttons\">\n",
              "\n",
              "  <div class=\"colab-df-container\">\n",
              "    <button class=\"colab-df-convert\" onclick=\"convertToInteractive('df-9e0d39a0-da9f-43cc-b7be-09586caff902')\"\n",
              "            title=\"Convert this dataframe to an interactive table.\"\n",
              "            style=\"display:none;\">\n",
              "\n",
              "  <svg xmlns=\"http://www.w3.org/2000/svg\" height=\"24px\" viewBox=\"0 -960 960 960\">\n",
              "    <path d=\"M120-120v-720h720v720H120Zm60-500h600v-160H180v160Zm220 220h160v-160H400v160Zm0 220h160v-160H400v160ZM180-400h160v-160H180v160Zm440 0h160v-160H620v160ZM180-180h160v-160H180v160Zm440 0h160v-160H620v160Z\"/>\n",
              "  </svg>\n",
              "    </button>\n",
              "\n",
              "  <style>\n",
              "    .colab-df-container {\n",
              "      display:flex;\n",
              "      gap: 12px;\n",
              "    }\n",
              "\n",
              "    .colab-df-convert {\n",
              "      background-color: #E8F0FE;\n",
              "      border: none;\n",
              "      border-radius: 50%;\n",
              "      cursor: pointer;\n",
              "      display: none;\n",
              "      fill: #1967D2;\n",
              "      height: 32px;\n",
              "      padding: 0 0 0 0;\n",
              "      width: 32px;\n",
              "    }\n",
              "\n",
              "    .colab-df-convert:hover {\n",
              "      background-color: #E2EBFA;\n",
              "      box-shadow: 0px 1px 2px rgba(60, 64, 67, 0.3), 0px 1px 3px 1px rgba(60, 64, 67, 0.15);\n",
              "      fill: #174EA6;\n",
              "    }\n",
              "\n",
              "    .colab-df-buttons div {\n",
              "      margin-bottom: 4px;\n",
              "    }\n",
              "\n",
              "    [theme=dark] .colab-df-convert {\n",
              "      background-color: #3B4455;\n",
              "      fill: #D2E3FC;\n",
              "    }\n",
              "\n",
              "    [theme=dark] .colab-df-convert:hover {\n",
              "      background-color: #434B5C;\n",
              "      box-shadow: 0px 1px 3px 1px rgba(0, 0, 0, 0.15);\n",
              "      filter: drop-shadow(0px 1px 2px rgba(0, 0, 0, 0.3));\n",
              "      fill: #FFFFFF;\n",
              "    }\n",
              "  </style>\n",
              "\n",
              "    <script>\n",
              "      const buttonEl =\n",
              "        document.querySelector('#df-9e0d39a0-da9f-43cc-b7be-09586caff902 button.colab-df-convert');\n",
              "      buttonEl.style.display =\n",
              "        google.colab.kernel.accessAllowed ? 'block' : 'none';\n",
              "\n",
              "      async function convertToInteractive(key) {\n",
              "        const element = document.querySelector('#df-9e0d39a0-da9f-43cc-b7be-09586caff902');\n",
              "        const dataTable =\n",
              "          await google.colab.kernel.invokeFunction('convertToInteractive',\n",
              "                                                    [key], {});\n",
              "        if (!dataTable) return;\n",
              "\n",
              "        const docLinkHtml = 'Like what you see? Visit the ' +\n",
              "          '<a target=\"_blank\" href=https://colab.research.google.com/notebooks/data_table.ipynb>data table notebook</a>'\n",
              "          + ' to learn more about interactive tables.';\n",
              "        element.innerHTML = '';\n",
              "        dataTable['output_type'] = 'display_data';\n",
              "        await google.colab.output.renderOutput(dataTable, element);\n",
              "        const docLink = document.createElement('div');\n",
              "        docLink.innerHTML = docLinkHtml;\n",
              "        element.appendChild(docLink);\n",
              "      }\n",
              "    </script>\n",
              "  </div>\n",
              "\n",
              "    </div>\n",
              "  </div>\n"
            ]
          },
          "metadata": {},
          "execution_count": 26
        }
      ]
    },
    {
      "cell_type": "code",
      "source": [
        "import pandas as pd\n",
        "df = pd.read_csv('/content/drive/My Drive/Colab Notebooks/data/insurance.csv')\n",
        "\n",
        "print(df.charges.count())\n",
        "print(df.charges.min())\n",
        "print(df.charges.max())\n",
        "print(df.charges.quantile(.25))\n",
        "print(df.charges.quantile(.50))\n",
        "print(df.charges.quantile(.75))\n",
        "print(df.charges.mean())\n",
        "print(df.charges.median())\n",
        "print(df.charges.mode())"
      ],
      "metadata": {
        "colab": {
          "base_uri": "https://localhost:8080/"
        },
        "id": "1XZqRdCSUx9Z",
        "outputId": "c677c008-7184-4db8-f5b2-7e5c8249dd88"
      },
      "execution_count": 27,
      "outputs": [
        {
          "output_type": "stream",
          "name": "stdout",
          "text": [
            "1338\n",
            "1121.8739\n",
            "63770.42801\n",
            "4740.28715\n",
            "9382.033\n",
            "16639.912515\n",
            "13270.422265141257\n",
            "9382.033\n",
            "0    1639.5631\n",
            "Name: charges, dtype: float64\n"
          ]
        }
      ]
    },
    {
      "cell_type": "code",
      "source": [
        "print(df.charges.mode().values[0])"
      ],
      "metadata": {
        "colab": {
          "base_uri": "https://localhost:8080/"
        },
        "id": "kJ-rKtdBVDZ2",
        "outputId": "4541673b-87b0-443b-ed69-2eb4d38236c4"
      },
      "execution_count": 28,
      "outputs": [
        {
          "output_type": "stream",
          "name": "stdout",
          "text": [
            "1639.5631\n"
          ]
        }
      ]
    },
    {
      "cell_type": "code",
      "source": [
        "# Using Python list\n",
        "import numpy as np\n",
        "myList = [1,2,3,4,5,6,7,8,9,10]\n",
        "print(np.std(myList, ddof=1)) # The parameter 'ddof=1' is used to change the default std to sample mode (s)\n",
        "\n",
        "# Using Pandas DataFrame column\n",
        "import pandas as pd\n",
        "df = pd.DataFrame(data=[1,2,3,4,5,6,7,8,9,10], columns=['numbers'])\n",
        "print(df.numbers.std())       # Assumes a sample std (s) by default"
      ],
      "metadata": {
        "colab": {
          "base_uri": "https://localhost:8080/"
        },
        "id": "pQsni6fAVHeA",
        "outputId": "0873e591-f776-4578-9f47-907296864db8"
      },
      "execution_count": 29,
      "outputs": [
        {
          "output_type": "stream",
          "name": "stdout",
          "text": [
            "3.0276503540974917\n",
            "3.0276503540974917\n"
          ]
        }
      ]
    },
    {
      "cell_type": "code",
      "source": [
        "import pandas as pd\n",
        "df = pd.read_csv('/content/drive/My Drive/Colab Notebooks/data/insurance.csv')\n",
        "\n",
        "print(df.charges.std())\n",
        "print(df['charges'].std())\n",
        "print(df.std())"
      ],
      "metadata": {
        "colab": {
          "base_uri": "https://localhost:8080/"
        },
        "id": "dqD0M86XVKyo",
        "outputId": "b60f6807-583e-49fe-a0ec-126fa0f989de"
      },
      "execution_count": 30,
      "outputs": [
        {
          "output_type": "stream",
          "name": "stdout",
          "text": [
            "12110.011236694001\n",
            "12110.011236694001\n",
            "age            14.049960\n",
            "bmi             6.098187\n",
            "children        1.205493\n",
            "charges     12110.011237\n",
            "dtype: float64\n"
          ]
        },
        {
          "output_type": "stream",
          "name": "stderr",
          "text": [
            "<ipython-input-30-6f8b93ab4663>:6: FutureWarning: The default value of numeric_only in DataFrame.std is deprecated. In a future version, it will default to False. In addition, specifying 'numeric_only=None' is deprecated. Select only valid columns or specify the value of numeric_only to silence this warning.\n",
            "  print(df.std())\n"
          ]
        }
      ]
    },
    {
      "cell_type": "code",
      "source": [
        "# Using Python list\n",
        "from scipy.stats import kurtosis, skew\n",
        "myList = [1,2,2,3,3,3,4,4,4,4,4,5,5,5,5,5,5,5,5,6,6,6,6,6,6,6,6,6,7,7,7,7,7,8,8,8,9,9,10]\n",
        "print(skew(myList, bias=False))\n",
        "print(kurtosis(myList, bias=False))\n",
        "\n",
        "# Using Pandas DataFrame\n",
        "import pandas as pd\n",
        "df = pd.DataFrame(data=[1,2,2,3,3,3,4,4,4,4,4,5,5,5,5,5,5,5,5,6,6,6,6,6,6,6,6,6,7,7,7,7,7,8,8,8,9,9,10], columns=['numbers'])\n",
        "print(df.numbers.skew())\n",
        "print(df.numbers.kurt())"
      ],
      "metadata": {
        "colab": {
          "base_uri": "https://localhost:8080/"
        },
        "id": "tVy21ZLwVOuI",
        "outputId": "d9d3abfb-6ab1-4b97-be7d-239609de6a7b"
      },
      "execution_count": 31,
      "outputs": [
        {
          "output_type": "stream",
          "name": "stdout",
          "text": [
            "-0.01972922271337009\n",
            "-0.03905580479600701\n",
            "-0.01972922271337009\n",
            "-0.0390558047960079\n"
          ]
        }
      ]
    },
    {
      "cell_type": "code",
      "source": [
        "from scipy.stats import kurtosis, skew\n",
        "import pandas as pd\n",
        "df = pd.read_csv('/content/drive/My Drive/Colab Notebooks/data/insurance.csv')\n",
        "\n",
        "print(df.charges.skew())\n",
        "print(df['charges'].skew())\n",
        "print(df[['charges', 'bmi', 'children', 'age']].skew())\n",
        "print()\n",
        "print(df.charges.kurt())\n",
        "print(df['charges'].kurt())\n",
        "print(df[['charges', 'bmi', 'children', 'age']].kurt())"
      ],
      "metadata": {
        "colab": {
          "base_uri": "https://localhost:8080/"
        },
        "id": "BuJmxyTsVSyf",
        "outputId": "49f10fd7-bbe7-4614-bd29-5d5dee14b14a"
      },
      "execution_count": 32,
      "outputs": [
        {
          "output_type": "stream",
          "name": "stdout",
          "text": [
            "1.5158796580240388\n",
            "1.5158796580240388\n",
            "charges     1.515880\n",
            "bmi         0.284047\n",
            "children    0.938380\n",
            "age         0.055673\n",
            "dtype: float64\n",
            "\n",
            "1.6062986532967907\n",
            "1.6062986532967907\n",
            "charges     1.606299\n",
            "bmi        -0.050732\n",
            "children    0.202454\n",
            "age        -1.245088\n",
            "dtype: float64\n"
          ]
        }
      ]
    },
    {
      "cell_type": "code",
      "source": [
        "print(df.min())\n",
        "print()\n",
        "print(df.quantile(.25))\n",
        "print()\n",
        "print(df.median())\n",
        "print()\n",
        "print(df.quantile(.75))\n",
        "print()\n",
        "print(df.max())\n",
        "print()\n",
        "print(df.mean())\n",
        "print()\n",
        "print(df.mode().values[0])\n",
        "print()\n",
        "print(df.std())\n",
        "print()\n",
        "print(df.skew())\n",
        "print()\n",
        "print(df.kurt())"
      ],
      "metadata": {
        "colab": {
          "base_uri": "https://localhost:8080/"
        },
        "id": "qiPvCJc4VhQ0",
        "outputId": "0a9d714f-780b-4a82-dfd8-c860dad1094f"
      },
      "execution_count": 34,
      "outputs": [
        {
          "output_type": "stream",
          "name": "stdout",
          "text": [
            "age                18\n",
            "sex            female\n",
            "bmi             15.96\n",
            "children            0\n",
            "smoker             no\n",
            "region      northeast\n",
            "charges     1121.8739\n",
            "dtype: object\n",
            "\n",
            "age           27.00000\n",
            "bmi           26.29625\n",
            "children       0.00000\n",
            "charges     4740.28715\n",
            "Name: 0.25, dtype: float64\n",
            "\n",
            "age           39.000\n",
            "bmi           30.400\n",
            "children       1.000\n",
            "charges     9382.033\n",
            "dtype: float64\n",
            "\n",
            "age            51.000000\n",
            "bmi            34.693750\n",
            "children        2.000000\n",
            "charges     16639.912515\n",
            "Name: 0.75, dtype: float64\n",
            "\n",
            "age                  64\n",
            "sex                male\n",
            "bmi               53.13\n",
            "children              5\n",
            "smoker              yes\n",
            "region        southwest\n",
            "charges     63770.42801\n",
            "dtype: object\n",
            "\n",
            "age            39.207025\n",
            "bmi            30.663397\n",
            "children        1.094918\n",
            "charges     13270.422265\n",
            "dtype: float64\n",
            "\n",
            "[18 'male' 32.3 0 'no' 'southeast' 1639.5631]\n",
            "\n",
            "age            14.049960\n",
            "bmi             6.098187\n",
            "children        1.205493\n",
            "charges     12110.011237\n",
            "dtype: float64\n",
            "\n",
            "age         0.055673\n",
            "bmi         0.284047\n",
            "children    0.938380\n",
            "charges     1.515880\n",
            "dtype: float64\n",
            "\n",
            "age        -1.245088\n",
            "bmi        -0.050732\n",
            "children    0.202454\n",
            "charges     1.606299\n",
            "dtype: float64\n"
          ]
        },
        {
          "output_type": "stream",
          "name": "stderr",
          "text": [
            "<ipython-input-34-636c47af2973>:3: FutureWarning: The default value of numeric_only in DataFrame.quantile is deprecated. In a future version, it will default to False. Select only valid columns or specify the value of numeric_only to silence this warning.\n",
            "  print(df.quantile(.25))\n",
            "<ipython-input-34-636c47af2973>:5: FutureWarning: The default value of numeric_only in DataFrame.median is deprecated. In a future version, it will default to False. In addition, specifying 'numeric_only=None' is deprecated. Select only valid columns or specify the value of numeric_only to silence this warning.\n",
            "  print(df.median())\n",
            "<ipython-input-34-636c47af2973>:7: FutureWarning: The default value of numeric_only in DataFrame.quantile is deprecated. In a future version, it will default to False. Select only valid columns or specify the value of numeric_only to silence this warning.\n",
            "  print(df.quantile(.75))\n",
            "<ipython-input-34-636c47af2973>:11: FutureWarning: The default value of numeric_only in DataFrame.mean is deprecated. In a future version, it will default to False. In addition, specifying 'numeric_only=None' is deprecated. Select only valid columns or specify the value of numeric_only to silence this warning.\n",
            "  print(df.mean())\n",
            "<ipython-input-34-636c47af2973>:15: FutureWarning: The default value of numeric_only in DataFrame.std is deprecated. In a future version, it will default to False. In addition, specifying 'numeric_only=None' is deprecated. Select only valid columns or specify the value of numeric_only to silence this warning.\n",
            "  print(df.std())\n",
            "<ipython-input-34-636c47af2973>:17: FutureWarning: The default value of numeric_only in DataFrame.skew is deprecated. In a future version, it will default to False. In addition, specifying 'numeric_only=None' is deprecated. Select only valid columns or specify the value of numeric_only to silence this warning.\n",
            "  print(df.skew())\n",
            "<ipython-input-34-636c47af2973>:19: FutureWarning: The default value of numeric_only in DataFrame.kurt is deprecated. In a future version, it will default to False. In addition, specifying 'numeric_only=None' is deprecated. Select only valid columns or specify the value of numeric_only to silence this warning.\n",
            "  print(df.kurt())\n"
          ]
        }
      ]
    }
  ]
}