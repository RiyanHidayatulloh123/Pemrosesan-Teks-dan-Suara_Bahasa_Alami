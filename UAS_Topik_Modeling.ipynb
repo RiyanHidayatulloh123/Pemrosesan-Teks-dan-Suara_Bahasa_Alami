{
  "nbformat": 4,
  "nbformat_minor": 0,
  "metadata": {
    "colab": {
      "provenance": []
    },
    "kernelspec": {
      "name": "python3",
      "display_name": "Python 3"
    },
    "language_info": {
      "name": "python"
    },
    "widgets": {
      "application/vnd.jupyter.widget-state+json": {
        "2b10f883afd44431a71bc6bb6274c539": {
          "model_module": "@jupyter-widgets/controls",
          "model_name": "HBoxModel",
          "model_module_version": "1.5.0",
          "state": {
            "_dom_classes": [],
            "_model_module": "@jupyter-widgets/controls",
            "_model_module_version": "1.5.0",
            "_model_name": "HBoxModel",
            "_view_count": null,
            "_view_module": "@jupyter-widgets/controls",
            "_view_module_version": "1.5.0",
            "_view_name": "HBoxView",
            "box_style": "",
            "children": [
              "IPY_MODEL_291dea0317834349922262d6ec3ededb",
              "IPY_MODEL_8cbb6e6002d6451caa8a8f1444c09c46",
              "IPY_MODEL_2bd3b0e8dd1b437cbb603c6c65c091bb"
            ],
            "layout": "IPY_MODEL_341df03f4f2046fa9aa40e349d619af4"
          }
        },
        "291dea0317834349922262d6ec3ededb": {
          "model_module": "@jupyter-widgets/controls",
          "model_name": "HTMLModel",
          "model_module_version": "1.5.0",
          "state": {
            "_dom_classes": [],
            "_model_module": "@jupyter-widgets/controls",
            "_model_module_version": "1.5.0",
            "_model_name": "HTMLModel",
            "_view_count": null,
            "_view_module": "@jupyter-widgets/controls",
            "_view_module_version": "1.5.0",
            "_view_name": "HTMLView",
            "description": "",
            "description_tooltip": null,
            "layout": "IPY_MODEL_43714fa1980148419d0defbc54086fd4",
            "placeholder": "​",
            "style": "IPY_MODEL_095c942ff2ce41f8916274b2c53bd10e",
            "value": "Pandas Apply: 100%"
          }
        },
        "8cbb6e6002d6451caa8a8f1444c09c46": {
          "model_module": "@jupyter-widgets/controls",
          "model_name": "FloatProgressModel",
          "model_module_version": "1.5.0",
          "state": {
            "_dom_classes": [],
            "_model_module": "@jupyter-widgets/controls",
            "_model_module_version": "1.5.0",
            "_model_name": "FloatProgressModel",
            "_view_count": null,
            "_view_module": "@jupyter-widgets/controls",
            "_view_module_version": "1.5.0",
            "_view_name": "ProgressView",
            "bar_style": "success",
            "description": "",
            "description_tooltip": null,
            "layout": "IPY_MODEL_340c8d79b1624e37bc03f4736118cfd0",
            "max": 10,
            "min": 0,
            "orientation": "horizontal",
            "style": "IPY_MODEL_0fac0d7574ed4315a0b50c089132cc31",
            "value": 10
          }
        },
        "2bd3b0e8dd1b437cbb603c6c65c091bb": {
          "model_module": "@jupyter-widgets/controls",
          "model_name": "HTMLModel",
          "model_module_version": "1.5.0",
          "state": {
            "_dom_classes": [],
            "_model_module": "@jupyter-widgets/controls",
            "_model_module_version": "1.5.0",
            "_model_name": "HTMLModel",
            "_view_count": null,
            "_view_module": "@jupyter-widgets/controls",
            "_view_module_version": "1.5.0",
            "_view_name": "HTMLView",
            "description": "",
            "description_tooltip": null,
            "layout": "IPY_MODEL_2d747642f0ea404a96653d250b3fb932",
            "placeholder": "​",
            "style": "IPY_MODEL_1801be9dbf8f46baaa49fdee7522ce30",
            "value": " 10/10 [00:00&lt;00:00, 212.49it/s]"
          }
        },
        "341df03f4f2046fa9aa40e349d619af4": {
          "model_module": "@jupyter-widgets/base",
          "model_name": "LayoutModel",
          "model_module_version": "1.2.0",
          "state": {
            "_model_module": "@jupyter-widgets/base",
            "_model_module_version": "1.2.0",
            "_model_name": "LayoutModel",
            "_view_count": null,
            "_view_module": "@jupyter-widgets/base",
            "_view_module_version": "1.2.0",
            "_view_name": "LayoutView",
            "align_content": null,
            "align_items": null,
            "align_self": null,
            "border": null,
            "bottom": null,
            "display": null,
            "flex": null,
            "flex_flow": null,
            "grid_area": null,
            "grid_auto_columns": null,
            "grid_auto_flow": null,
            "grid_auto_rows": null,
            "grid_column": null,
            "grid_gap": null,
            "grid_row": null,
            "grid_template_areas": null,
            "grid_template_columns": null,
            "grid_template_rows": null,
            "height": null,
            "justify_content": null,
            "justify_items": null,
            "left": null,
            "margin": null,
            "max_height": null,
            "max_width": null,
            "min_height": null,
            "min_width": null,
            "object_fit": null,
            "object_position": null,
            "order": null,
            "overflow": null,
            "overflow_x": null,
            "overflow_y": null,
            "padding": null,
            "right": null,
            "top": null,
            "visibility": null,
            "width": null
          }
        },
        "43714fa1980148419d0defbc54086fd4": {
          "model_module": "@jupyter-widgets/base",
          "model_name": "LayoutModel",
          "model_module_version": "1.2.0",
          "state": {
            "_model_module": "@jupyter-widgets/base",
            "_model_module_version": "1.2.0",
            "_model_name": "LayoutModel",
            "_view_count": null,
            "_view_module": "@jupyter-widgets/base",
            "_view_module_version": "1.2.0",
            "_view_name": "LayoutView",
            "align_content": null,
            "align_items": null,
            "align_self": null,
            "border": null,
            "bottom": null,
            "display": null,
            "flex": null,
            "flex_flow": null,
            "grid_area": null,
            "grid_auto_columns": null,
            "grid_auto_flow": null,
            "grid_auto_rows": null,
            "grid_column": null,
            "grid_gap": null,
            "grid_row": null,
            "grid_template_areas": null,
            "grid_template_columns": null,
            "grid_template_rows": null,
            "height": null,
            "justify_content": null,
            "justify_items": null,
            "left": null,
            "margin": null,
            "max_height": null,
            "max_width": null,
            "min_height": null,
            "min_width": null,
            "object_fit": null,
            "object_position": null,
            "order": null,
            "overflow": null,
            "overflow_x": null,
            "overflow_y": null,
            "padding": null,
            "right": null,
            "top": null,
            "visibility": null,
            "width": null
          }
        },
        "095c942ff2ce41f8916274b2c53bd10e": {
          "model_module": "@jupyter-widgets/controls",
          "model_name": "DescriptionStyleModel",
          "model_module_version": "1.5.0",
          "state": {
            "_model_module": "@jupyter-widgets/controls",
            "_model_module_version": "1.5.0",
            "_model_name": "DescriptionStyleModel",
            "_view_count": null,
            "_view_module": "@jupyter-widgets/base",
            "_view_module_version": "1.2.0",
            "_view_name": "StyleView",
            "description_width": ""
          }
        },
        "340c8d79b1624e37bc03f4736118cfd0": {
          "model_module": "@jupyter-widgets/base",
          "model_name": "LayoutModel",
          "model_module_version": "1.2.0",
          "state": {
            "_model_module": "@jupyter-widgets/base",
            "_model_module_version": "1.2.0",
            "_model_name": "LayoutModel",
            "_view_count": null,
            "_view_module": "@jupyter-widgets/base",
            "_view_module_version": "1.2.0",
            "_view_name": "LayoutView",
            "align_content": null,
            "align_items": null,
            "align_self": null,
            "border": null,
            "bottom": null,
            "display": null,
            "flex": null,
            "flex_flow": null,
            "grid_area": null,
            "grid_auto_columns": null,
            "grid_auto_flow": null,
            "grid_auto_rows": null,
            "grid_column": null,
            "grid_gap": null,
            "grid_row": null,
            "grid_template_areas": null,
            "grid_template_columns": null,
            "grid_template_rows": null,
            "height": null,
            "justify_content": null,
            "justify_items": null,
            "left": null,
            "margin": null,
            "max_height": null,
            "max_width": null,
            "min_height": null,
            "min_width": null,
            "object_fit": null,
            "object_position": null,
            "order": null,
            "overflow": null,
            "overflow_x": null,
            "overflow_y": null,
            "padding": null,
            "right": null,
            "top": null,
            "visibility": null,
            "width": null
          }
        },
        "0fac0d7574ed4315a0b50c089132cc31": {
          "model_module": "@jupyter-widgets/controls",
          "model_name": "ProgressStyleModel",
          "model_module_version": "1.5.0",
          "state": {
            "_model_module": "@jupyter-widgets/controls",
            "_model_module_version": "1.5.0",
            "_model_name": "ProgressStyleModel",
            "_view_count": null,
            "_view_module": "@jupyter-widgets/base",
            "_view_module_version": "1.2.0",
            "_view_name": "StyleView",
            "bar_color": null,
            "description_width": ""
          }
        },
        "2d747642f0ea404a96653d250b3fb932": {
          "model_module": "@jupyter-widgets/base",
          "model_name": "LayoutModel",
          "model_module_version": "1.2.0",
          "state": {
            "_model_module": "@jupyter-widgets/base",
            "_model_module_version": "1.2.0",
            "_model_name": "LayoutModel",
            "_view_count": null,
            "_view_module": "@jupyter-widgets/base",
            "_view_module_version": "1.2.0",
            "_view_name": "LayoutView",
            "align_content": null,
            "align_items": null,
            "align_self": null,
            "border": null,
            "bottom": null,
            "display": null,
            "flex": null,
            "flex_flow": null,
            "grid_area": null,
            "grid_auto_columns": null,
            "grid_auto_flow": null,
            "grid_auto_rows": null,
            "grid_column": null,
            "grid_gap": null,
            "grid_row": null,
            "grid_template_areas": null,
            "grid_template_columns": null,
            "grid_template_rows": null,
            "height": null,
            "justify_content": null,
            "justify_items": null,
            "left": null,
            "margin": null,
            "max_height": null,
            "max_width": null,
            "min_height": null,
            "min_width": null,
            "object_fit": null,
            "object_position": null,
            "order": null,
            "overflow": null,
            "overflow_x": null,
            "overflow_y": null,
            "padding": null,
            "right": null,
            "top": null,
            "visibility": null,
            "width": null
          }
        },
        "1801be9dbf8f46baaa49fdee7522ce30": {
          "model_module": "@jupyter-widgets/controls",
          "model_name": "DescriptionStyleModel",
          "model_module_version": "1.5.0",
          "state": {
            "_model_module": "@jupyter-widgets/controls",
            "_model_module_version": "1.5.0",
            "_model_name": "DescriptionStyleModel",
            "_view_count": null,
            "_view_module": "@jupyter-widgets/base",
            "_view_module_version": "1.2.0",
            "_view_name": "StyleView",
            "description_width": ""
          }
        }
      }
    }
  },
  "cells": [
    {
      "cell_type": "code",
      "execution_count": 1,
      "metadata": {
        "colab": {
          "base_uri": "https://localhost:8080/"
        },
        "id": "9XABkINWB0ou",
        "outputId": "d4c7f776-aa1b-44d4-af03-e2990df5242a"
      },
      "outputs": [
        {
          "output_type": "stream",
          "name": "stdout",
          "text": [
            "Requirement already satisfied: gensim in /usr/local/lib/python3.10/dist-packages (4.3.2)\n",
            "Requirement already satisfied: numpy>=1.18.5 in /usr/local/lib/python3.10/dist-packages (from gensim) (1.23.5)\n",
            "Requirement already satisfied: scipy>=1.7.0 in /usr/local/lib/python3.10/dist-packages (from gensim) (1.11.4)\n",
            "Requirement already satisfied: smart-open>=1.8.1 in /usr/local/lib/python3.10/dist-packages (from gensim) (6.4.0)\n"
          ]
        }
      ],
      "source": [
        "pip install --upgrade gensim"
      ]
    },
    {
      "cell_type": "code",
      "source": [
        "pip install pyldavis==3.2.1"
      ],
      "metadata": {
        "colab": {
          "base_uri": "https://localhost:8080/"
        },
        "id": "iTEiOzEHCLbk",
        "outputId": "c8acc093-ced4-4437-b64e-d4d676b3d3c1"
      },
      "execution_count": 2,
      "outputs": [
        {
          "output_type": "stream",
          "name": "stdout",
          "text": [
            "Collecting pyldavis==3.2.1\n",
            "  Downloading pyLDAvis-3.2.1.tar.gz (1.7 MB)\n",
            "\u001b[2K     \u001b[90m━━━━━━━━━━━━━━━━━━━━━━━━━━━━━━━━━━━━━━━━\u001b[0m \u001b[32m1.7/1.7 MB\u001b[0m \u001b[31m8.5 MB/s\u001b[0m eta \u001b[36m0:00:00\u001b[0m\n",
            "\u001b[?25h  Preparing metadata (setup.py) ... \u001b[?25l\u001b[?25hdone\n",
            "Requirement already satisfied: wheel>=0.23.0 in /usr/local/lib/python3.10/dist-packages (from pyldavis==3.2.1) (0.42.0)\n",
            "Requirement already satisfied: numpy>=1.9.2 in /usr/local/lib/python3.10/dist-packages (from pyldavis==3.2.1) (1.23.5)\n",
            "Requirement already satisfied: scipy>=0.18.0 in /usr/local/lib/python3.10/dist-packages (from pyldavis==3.2.1) (1.11.4)\n",
            "Requirement already satisfied: joblib>=0.8.4 in /usr/local/lib/python3.10/dist-packages (from pyldavis==3.2.1) (1.3.2)\n",
            "Requirement already satisfied: jinja2>=2.7.2 in /usr/local/lib/python3.10/dist-packages (from pyldavis==3.2.1) (3.1.3)\n",
            "Requirement already satisfied: numexpr in /usr/local/lib/python3.10/dist-packages (from pyldavis==3.2.1) (2.8.8)\n",
            "Requirement already satisfied: future in /usr/local/lib/python3.10/dist-packages (from pyldavis==3.2.1) (0.18.3)\n",
            "Collecting funcy (from pyldavis==3.2.1)\n",
            "  Downloading funcy-2.0-py2.py3-none-any.whl (30 kB)\n",
            "Requirement already satisfied: pandas>=0.17.0 in /usr/local/lib/python3.10/dist-packages (from pyldavis==3.2.1) (1.5.3)\n",
            "Requirement already satisfied: MarkupSafe>=2.0 in /usr/local/lib/python3.10/dist-packages (from jinja2>=2.7.2->pyldavis==3.2.1) (2.1.3)\n",
            "Requirement already satisfied: python-dateutil>=2.8.1 in /usr/local/lib/python3.10/dist-packages (from pandas>=0.17.0->pyldavis==3.2.1) (2.8.2)\n",
            "Requirement already satisfied: pytz>=2020.1 in /usr/local/lib/python3.10/dist-packages (from pandas>=0.17.0->pyldavis==3.2.1) (2023.3.post1)\n",
            "Requirement already satisfied: six>=1.5 in /usr/local/lib/python3.10/dist-packages (from python-dateutil>=2.8.1->pandas>=0.17.0->pyldavis==3.2.1) (1.16.0)\n",
            "Building wheels for collected packages: pyldavis\n",
            "  Building wheel for pyldavis (setup.py) ... \u001b[?25l\u001b[?25hdone\n",
            "  Created wheel for pyldavis: filename=pyLDAvis-3.2.1-py2.py3-none-any.whl size=136164 sha256=a7b3b315a43ee958f09644893439e9fbd082fdbdfa811df10af9a5cc9163bbc3\n",
            "  Stored in directory: /root/.cache/pip/wheels/d3/35/9c/c084bb1c3a4b8a7feb32d57c88f572dcf5c3accc949478893f\n",
            "Successfully built pyldavis\n",
            "Installing collected packages: funcy, pyldavis\n",
            "Successfully installed funcy-2.0 pyldavis-3.2.1\n"
          ]
        }
      ]
    },
    {
      "cell_type": "code",
      "source": [
        "pip install Sastrawi"
      ],
      "metadata": {
        "colab": {
          "base_uri": "https://localhost:8080/"
        },
        "id": "ee6EB3NqDQ7_",
        "outputId": "b5844654-8ed3-4e03-def3-345de388edad"
      },
      "execution_count": 3,
      "outputs": [
        {
          "output_type": "stream",
          "name": "stdout",
          "text": [
            "Collecting Sastrawi\n",
            "  Downloading Sastrawi-1.0.1-py2.py3-none-any.whl (209 kB)\n",
            "\u001b[2K     \u001b[90m━━━━━━━━━━━━━━━━━━━━━━━━━━━━━━━━━━━━━━━━\u001b[0m \u001b[32m209.7/209.7 kB\u001b[0m \u001b[31m2.1 MB/s\u001b[0m eta \u001b[36m0:00:00\u001b[0m\n",
            "\u001b[?25hInstalling collected packages: Sastrawi\n",
            "Successfully installed Sastrawi-1.0.1\n"
          ]
        }
      ]
    },
    {
      "cell_type": "code",
      "source": [
        "pip install swifter"
      ],
      "metadata": {
        "colab": {
          "base_uri": "https://localhost:8080/"
        },
        "id": "1DdV5MWQDaQV",
        "outputId": "3d22f3f6-96d3-497d-e1cf-ba4cc57ff7e4"
      },
      "execution_count": 4,
      "outputs": [
        {
          "output_type": "stream",
          "name": "stdout",
          "text": [
            "Collecting swifter\n",
            "  Downloading swifter-1.4.0.tar.gz (1.2 MB)\n",
            "\u001b[2K     \u001b[90m━━━━━━━━━━━━━━━━━━━━━━━━━━━━━━━━━━━━━━━━\u001b[0m \u001b[32m1.2/1.2 MB\u001b[0m \u001b[31m5.7 MB/s\u001b[0m eta \u001b[36m0:00:00\u001b[0m\n",
            "\u001b[?25h  Preparing metadata (setup.py) ... \u001b[?25l\u001b[?25hdone\n",
            "Requirement already satisfied: pandas>=1.0.0 in /usr/local/lib/python3.10/dist-packages (from swifter) (1.5.3)\n",
            "Requirement already satisfied: psutil>=5.6.6 in /usr/local/lib/python3.10/dist-packages (from swifter) (5.9.5)\n",
            "Requirement already satisfied: dask[dataframe]>=2.10.0 in /usr/local/lib/python3.10/dist-packages (from swifter) (2023.8.1)\n",
            "Requirement already satisfied: tqdm>=4.33.0 in /usr/local/lib/python3.10/dist-packages (from swifter) (4.66.1)\n",
            "Requirement already satisfied: click>=8.0 in /usr/local/lib/python3.10/dist-packages (from dask[dataframe]>=2.10.0->swifter) (8.1.7)\n",
            "Requirement already satisfied: cloudpickle>=1.5.0 in /usr/local/lib/python3.10/dist-packages (from dask[dataframe]>=2.10.0->swifter) (2.2.1)\n",
            "Requirement already satisfied: fsspec>=2021.09.0 in /usr/local/lib/python3.10/dist-packages (from dask[dataframe]>=2.10.0->swifter) (2023.6.0)\n",
            "Requirement already satisfied: packaging>=20.0 in /usr/local/lib/python3.10/dist-packages (from dask[dataframe]>=2.10.0->swifter) (23.2)\n",
            "Requirement already satisfied: partd>=1.2.0 in /usr/local/lib/python3.10/dist-packages (from dask[dataframe]>=2.10.0->swifter) (1.4.1)\n",
            "Requirement already satisfied: pyyaml>=5.3.1 in /usr/local/lib/python3.10/dist-packages (from dask[dataframe]>=2.10.0->swifter) (6.0.1)\n",
            "Requirement already satisfied: toolz>=0.10.0 in /usr/local/lib/python3.10/dist-packages (from dask[dataframe]>=2.10.0->swifter) (0.12.0)\n",
            "Requirement already satisfied: importlib-metadata>=4.13.0 in /usr/local/lib/python3.10/dist-packages (from dask[dataframe]>=2.10.0->swifter) (7.0.1)\n",
            "Requirement already satisfied: python-dateutil>=2.8.1 in /usr/local/lib/python3.10/dist-packages (from pandas>=1.0.0->swifter) (2.8.2)\n",
            "Requirement already satisfied: pytz>=2020.1 in /usr/local/lib/python3.10/dist-packages (from pandas>=1.0.0->swifter) (2023.3.post1)\n",
            "Requirement already satisfied: numpy>=1.21.0 in /usr/local/lib/python3.10/dist-packages (from pandas>=1.0.0->swifter) (1.23.5)\n",
            "Requirement already satisfied: zipp>=0.5 in /usr/local/lib/python3.10/dist-packages (from importlib-metadata>=4.13.0->dask[dataframe]>=2.10.0->swifter) (3.17.0)\n",
            "Requirement already satisfied: locket in /usr/local/lib/python3.10/dist-packages (from partd>=1.2.0->dask[dataframe]>=2.10.0->swifter) (1.0.0)\n",
            "Requirement already satisfied: six>=1.5 in /usr/local/lib/python3.10/dist-packages (from python-dateutil>=2.8.1->pandas>=1.0.0->swifter) (1.16.0)\n",
            "Building wheels for collected packages: swifter\n",
            "  Building wheel for swifter (setup.py) ... \u001b[?25l\u001b[?25hdone\n",
            "  Created wheel for swifter: filename=swifter-1.4.0-py3-none-any.whl size=16506 sha256=654b1100cd23fcd158488d1298c40c0293d1ded1f21e3408d63a3c6a32b264a5\n",
            "  Stored in directory: /root/.cache/pip/wheels/e4/cf/51/0904952972ee2c7aa3709437065278dc534ec1b8d2ad41b443\n",
            "Successfully built swifter\n",
            "Installing collected packages: swifter\n",
            "Successfully installed swifter-1.4.0\n"
          ]
        }
      ]
    },
    {
      "cell_type": "code",
      "source": [
        "import pandas as pd\n",
        "import numpy as np\n",
        "import nltk"
      ],
      "metadata": {
        "id": "eBGxXuKIDhvG"
      },
      "execution_count": 5,
      "outputs": []
    },
    {
      "cell_type": "code",
      "source": [
        "#import data dari GDrive\n",
        "#bisa lihat di video ini https://youtu.be/AAwgqf2d82k\n",
        "! gdown --id 1JXKfpv2rAPVn9OcPQAVh3YCXGn7XnACR #id file di drive, bisa dilihat di link file dengan menu share file"
      ],
      "metadata": {
        "colab": {
          "base_uri": "https://localhost:8080/"
        },
        "id": "-WBALD5-D5l6",
        "outputId": "2275fa25-8878-4810-c870-b9ce10ffa94d"
      },
      "execution_count": 6,
      "outputs": [
        {
          "output_type": "stream",
          "name": "stdout",
          "text": [
            "/usr/local/lib/python3.10/dist-packages/gdown/cli.py:138: FutureWarning: Option `--id` was deprecated in version 4.3.1 and will be removed in 5.0. You don't need to pass it anymore to use a file ID.\n",
            "  warnings.warn(\n",
            "Downloading...\n",
            "From: https://drive.google.com/uc?id=1JXKfpv2rAPVn9OcPQAVh3YCXGn7XnACR\n",
            "To: /content/dataBerita.xlsx\n",
            "100% 26.9k/26.9k [00:00<00:00, 35.9MB/s]\n"
          ]
        }
      ]
    },
    {
      "cell_type": "code",
      "source": [
        "dataSB = pd.read_excel('/content/dataBerita.xlsx', sheet_name=\"Sheet1\") #lokasi file\n",
        "\n",
        "dataSB.head()"
      ],
      "metadata": {
        "colab": {
          "base_uri": "https://localhost:8080/",
          "height": 206
        },
        "id": "UTQKwSFGFQtM",
        "outputId": "59027768-f3cf-45fa-cd74-b8f7bed8b6e3"
      },
      "execution_count": 7,
      "outputs": [
        {
          "output_type": "execute_result",
          "data": {
            "text/plain": [
              "                                         articlename  \\\n",
              "0  http://regional./read/2016/10/20/12504331/gama...   \n",
              "1  https://biz./read/2016/02/28/090910928/Pemkot....   \n",
              "2  https://biz./read/2016/03/28/142218228/Wajah.B...   \n",
              "3  https://biz./read/2016/03/29/160443028/Pengusa...   \n",
              "4  https://biz./read/2016/11/08/080000028/mengopt...   \n",
              "\n",
              "                                            textdata  \n",
              "0  Gamawan Sebut Anggaran KTP Elektronik Dibahas ...  \n",
              "1  Pemkot Tangerang Permudah Investasi Dengan Per...  \n",
              "2  Wajah Baru Pengadaan Barang/Jasa, Simpel tapi ...  \n",
              "3  Pengusaha Kecil dan Menengah Bisa Ikut Jadi Pe...  \n",
              "4  Mengoptimalkan Manajemen Modal Kerja Bisnis sa...  "
            ],
            "text/html": [
              "\n",
              "  <div id=\"df-55d906b1-34ce-42ac-8c7a-0731a8f407ec\" class=\"colab-df-container\">\n",
              "    <div>\n",
              "<style scoped>\n",
              "    .dataframe tbody tr th:only-of-type {\n",
              "        vertical-align: middle;\n",
              "    }\n",
              "\n",
              "    .dataframe tbody tr th {\n",
              "        vertical-align: top;\n",
              "    }\n",
              "\n",
              "    .dataframe thead th {\n",
              "        text-align: right;\n",
              "    }\n",
              "</style>\n",
              "<table border=\"1\" class=\"dataframe\">\n",
              "  <thead>\n",
              "    <tr style=\"text-align: right;\">\n",
              "      <th></th>\n",
              "      <th>articlename</th>\n",
              "      <th>textdata</th>\n",
              "    </tr>\n",
              "  </thead>\n",
              "  <tbody>\n",
              "    <tr>\n",
              "      <th>0</th>\n",
              "      <td>http://regional./read/2016/10/20/12504331/gama...</td>\n",
              "      <td>Gamawan Sebut Anggaran KTP Elektronik Dibahas ...</td>\n",
              "    </tr>\n",
              "    <tr>\n",
              "      <th>1</th>\n",
              "      <td>https://biz./read/2016/02/28/090910928/Pemkot....</td>\n",
              "      <td>Pemkot Tangerang Permudah Investasi Dengan Per...</td>\n",
              "    </tr>\n",
              "    <tr>\n",
              "      <th>2</th>\n",
              "      <td>https://biz./read/2016/03/28/142218228/Wajah.B...</td>\n",
              "      <td>Wajah Baru Pengadaan Barang/Jasa, Simpel tapi ...</td>\n",
              "    </tr>\n",
              "    <tr>\n",
              "      <th>3</th>\n",
              "      <td>https://biz./read/2016/03/29/160443028/Pengusa...</td>\n",
              "      <td>Pengusaha Kecil dan Menengah Bisa Ikut Jadi Pe...</td>\n",
              "    </tr>\n",
              "    <tr>\n",
              "      <th>4</th>\n",
              "      <td>https://biz./read/2016/11/08/080000028/mengopt...</td>\n",
              "      <td>Mengoptimalkan Manajemen Modal Kerja Bisnis sa...</td>\n",
              "    </tr>\n",
              "  </tbody>\n",
              "</table>\n",
              "</div>\n",
              "    <div class=\"colab-df-buttons\">\n",
              "\n",
              "  <div class=\"colab-df-container\">\n",
              "    <button class=\"colab-df-convert\" onclick=\"convertToInteractive('df-55d906b1-34ce-42ac-8c7a-0731a8f407ec')\"\n",
              "            title=\"Convert this dataframe to an interactive table.\"\n",
              "            style=\"display:none;\">\n",
              "\n",
              "  <svg xmlns=\"http://www.w3.org/2000/svg\" height=\"24px\" viewBox=\"0 -960 960 960\">\n",
              "    <path d=\"M120-120v-720h720v720H120Zm60-500h600v-160H180v160Zm220 220h160v-160H400v160Zm0 220h160v-160H400v160ZM180-400h160v-160H180v160Zm440 0h160v-160H620v160ZM180-180h160v-160H180v160Zm440 0h160v-160H620v160Z\"/>\n",
              "  </svg>\n",
              "    </button>\n",
              "\n",
              "  <style>\n",
              "    .colab-df-container {\n",
              "      display:flex;\n",
              "      gap: 12px;\n",
              "    }\n",
              "\n",
              "    .colab-df-convert {\n",
              "      background-color: #E8F0FE;\n",
              "      border: none;\n",
              "      border-radius: 50%;\n",
              "      cursor: pointer;\n",
              "      display: none;\n",
              "      fill: #1967D2;\n",
              "      height: 32px;\n",
              "      padding: 0 0 0 0;\n",
              "      width: 32px;\n",
              "    }\n",
              "\n",
              "    .colab-df-convert:hover {\n",
              "      background-color: #E2EBFA;\n",
              "      box-shadow: 0px 1px 2px rgba(60, 64, 67, 0.3), 0px 1px 3px 1px rgba(60, 64, 67, 0.15);\n",
              "      fill: #174EA6;\n",
              "    }\n",
              "\n",
              "    .colab-df-buttons div {\n",
              "      margin-bottom: 4px;\n",
              "    }\n",
              "\n",
              "    [theme=dark] .colab-df-convert {\n",
              "      background-color: #3B4455;\n",
              "      fill: #D2E3FC;\n",
              "    }\n",
              "\n",
              "    [theme=dark] .colab-df-convert:hover {\n",
              "      background-color: #434B5C;\n",
              "      box-shadow: 0px 1px 3px 1px rgba(0, 0, 0, 0.15);\n",
              "      filter: drop-shadow(0px 1px 2px rgba(0, 0, 0, 0.3));\n",
              "      fill: #FFFFFF;\n",
              "    }\n",
              "  </style>\n",
              "\n",
              "    <script>\n",
              "      const buttonEl =\n",
              "        document.querySelector('#df-55d906b1-34ce-42ac-8c7a-0731a8f407ec button.colab-df-convert');\n",
              "      buttonEl.style.display =\n",
              "        google.colab.kernel.accessAllowed ? 'block' : 'none';\n",
              "\n",
              "      async function convertToInteractive(key) {\n",
              "        const element = document.querySelector('#df-55d906b1-34ce-42ac-8c7a-0731a8f407ec');\n",
              "        const dataTable =\n",
              "          await google.colab.kernel.invokeFunction('convertToInteractive',\n",
              "                                                    [key], {});\n",
              "        if (!dataTable) return;\n",
              "\n",
              "        const docLinkHtml = 'Like what you see? Visit the ' +\n",
              "          '<a target=\"_blank\" href=https://colab.research.google.com/notebooks/data_table.ipynb>data table notebook</a>'\n",
              "          + ' to learn more about interactive tables.';\n",
              "        element.innerHTML = '';\n",
              "        dataTable['output_type'] = 'display_data';\n",
              "        await google.colab.output.renderOutput(dataTable, element);\n",
              "        const docLink = document.createElement('div');\n",
              "        docLink.innerHTML = docLinkHtml;\n",
              "        element.appendChild(docLink);\n",
              "      }\n",
              "    </script>\n",
              "  </div>\n",
              "\n",
              "\n",
              "<div id=\"df-1e70eb77-c335-47a9-b86d-90ce41895edf\">\n",
              "  <button class=\"colab-df-quickchart\" onclick=\"quickchart('df-1e70eb77-c335-47a9-b86d-90ce41895edf')\"\n",
              "            title=\"Suggest charts\"\n",
              "            style=\"display:none;\">\n",
              "\n",
              "<svg xmlns=\"http://www.w3.org/2000/svg\" height=\"24px\"viewBox=\"0 0 24 24\"\n",
              "     width=\"24px\">\n",
              "    <g>\n",
              "        <path d=\"M19 3H5c-1.1 0-2 .9-2 2v14c0 1.1.9 2 2 2h14c1.1 0 2-.9 2-2V5c0-1.1-.9-2-2-2zM9 17H7v-7h2v7zm4 0h-2V7h2v10zm4 0h-2v-4h2v4z\"/>\n",
              "    </g>\n",
              "</svg>\n",
              "  </button>\n",
              "\n",
              "<style>\n",
              "  .colab-df-quickchart {\n",
              "      --bg-color: #E8F0FE;\n",
              "      --fill-color: #1967D2;\n",
              "      --hover-bg-color: #E2EBFA;\n",
              "      --hover-fill-color: #174EA6;\n",
              "      --disabled-fill-color: #AAA;\n",
              "      --disabled-bg-color: #DDD;\n",
              "  }\n",
              "\n",
              "  [theme=dark] .colab-df-quickchart {\n",
              "      --bg-color: #3B4455;\n",
              "      --fill-color: #D2E3FC;\n",
              "      --hover-bg-color: #434B5C;\n",
              "      --hover-fill-color: #FFFFFF;\n",
              "      --disabled-bg-color: #3B4455;\n",
              "      --disabled-fill-color: #666;\n",
              "  }\n",
              "\n",
              "  .colab-df-quickchart {\n",
              "    background-color: var(--bg-color);\n",
              "    border: none;\n",
              "    border-radius: 50%;\n",
              "    cursor: pointer;\n",
              "    display: none;\n",
              "    fill: var(--fill-color);\n",
              "    height: 32px;\n",
              "    padding: 0;\n",
              "    width: 32px;\n",
              "  }\n",
              "\n",
              "  .colab-df-quickchart:hover {\n",
              "    background-color: var(--hover-bg-color);\n",
              "    box-shadow: 0 1px 2px rgba(60, 64, 67, 0.3), 0 1px 3px 1px rgba(60, 64, 67, 0.15);\n",
              "    fill: var(--button-hover-fill-color);\n",
              "  }\n",
              "\n",
              "  .colab-df-quickchart-complete:disabled,\n",
              "  .colab-df-quickchart-complete:disabled:hover {\n",
              "    background-color: var(--disabled-bg-color);\n",
              "    fill: var(--disabled-fill-color);\n",
              "    box-shadow: none;\n",
              "  }\n",
              "\n",
              "  .colab-df-spinner {\n",
              "    border: 2px solid var(--fill-color);\n",
              "    border-color: transparent;\n",
              "    border-bottom-color: var(--fill-color);\n",
              "    animation:\n",
              "      spin 1s steps(1) infinite;\n",
              "  }\n",
              "\n",
              "  @keyframes spin {\n",
              "    0% {\n",
              "      border-color: transparent;\n",
              "      border-bottom-color: var(--fill-color);\n",
              "      border-left-color: var(--fill-color);\n",
              "    }\n",
              "    20% {\n",
              "      border-color: transparent;\n",
              "      border-left-color: var(--fill-color);\n",
              "      border-top-color: var(--fill-color);\n",
              "    }\n",
              "    30% {\n",
              "      border-color: transparent;\n",
              "      border-left-color: var(--fill-color);\n",
              "      border-top-color: var(--fill-color);\n",
              "      border-right-color: var(--fill-color);\n",
              "    }\n",
              "    40% {\n",
              "      border-color: transparent;\n",
              "      border-right-color: var(--fill-color);\n",
              "      border-top-color: var(--fill-color);\n",
              "    }\n",
              "    60% {\n",
              "      border-color: transparent;\n",
              "      border-right-color: var(--fill-color);\n",
              "    }\n",
              "    80% {\n",
              "      border-color: transparent;\n",
              "      border-right-color: var(--fill-color);\n",
              "      border-bottom-color: var(--fill-color);\n",
              "    }\n",
              "    90% {\n",
              "      border-color: transparent;\n",
              "      border-bottom-color: var(--fill-color);\n",
              "    }\n",
              "  }\n",
              "</style>\n",
              "\n",
              "  <script>\n",
              "    async function quickchart(key) {\n",
              "      const quickchartButtonEl =\n",
              "        document.querySelector('#' + key + ' button');\n",
              "      quickchartButtonEl.disabled = true;  // To prevent multiple clicks.\n",
              "      quickchartButtonEl.classList.add('colab-df-spinner');\n",
              "      try {\n",
              "        const charts = await google.colab.kernel.invokeFunction(\n",
              "            'suggestCharts', [key], {});\n",
              "      } catch (error) {\n",
              "        console.error('Error during call to suggestCharts:', error);\n",
              "      }\n",
              "      quickchartButtonEl.classList.remove('colab-df-spinner');\n",
              "      quickchartButtonEl.classList.add('colab-df-quickchart-complete');\n",
              "    }\n",
              "    (() => {\n",
              "      let quickchartButtonEl =\n",
              "        document.querySelector('#df-1e70eb77-c335-47a9-b86d-90ce41895edf button');\n",
              "      quickchartButtonEl.style.display =\n",
              "        google.colab.kernel.accessAllowed ? 'block' : 'none';\n",
              "    })();\n",
              "  </script>\n",
              "</div>\n",
              "    </div>\n",
              "  </div>\n"
            ]
          },
          "metadata": {},
          "execution_count": 7
        }
      ]
    },
    {
      "cell_type": "code",
      "source": [
        "# ------ Case Folding --------\n",
        "# gunakan fungsi Series.str.lower() pada Pandas\n",
        "\n",
        "dataSB['textdata'] = dataSB['textdata'].str.lower()\n",
        "\n",
        "print('Case Folding Result : \\n')\n",
        "print(dataSB['textdata'].head(5))"
      ],
      "metadata": {
        "colab": {
          "base_uri": "https://localhost:8080/"
        },
        "id": "6uHBdNKpFg2-",
        "outputId": "f4738c23-2793-453b-ccfe-07ceb9e8c203"
      },
      "execution_count": 8,
      "outputs": [
        {
          "output_type": "stream",
          "name": "stdout",
          "text": [
            "Case Folding Result : \n",
            "\n",
            "0    gamawan sebut anggaran ktp elektronik dibahas ...\n",
            "1    pemkot tangerang permudah investasi dengan per...\n",
            "2    wajah baru pengadaan barang/jasa, simpel tapi ...\n",
            "3    pengusaha kecil dan menengah bisa ikut jadi pe...\n",
            "4    mengoptimalkan manajemen modal kerja bisnis sa...\n",
            "Name: textdata, dtype: object\n"
          ]
        }
      ]
    },
    {
      "cell_type": "code",
      "source": [
        "import string\n",
        "import re #regex library\n",
        "\n",
        "# import word_tokenize & FreqDist from NLTK\n",
        "from nltk.tokenize import word_tokenize\n",
        "from nltk.probability import FreqDist"
      ],
      "metadata": {
        "id": "eEAECklSFkUk"
      },
      "execution_count": 9,
      "outputs": []
    },
    {
      "cell_type": "code",
      "source": [
        "# ------ Tokenizing ---------\n",
        "\n",
        "nltk.download('punkt')\n",
        "\n",
        "def remove_tweet_special(text):\n",
        "    # remove tab, new line, ans back slice\n",
        "    text = text.replace('\\\\t',\" \").replace('\\\\n',\" \").replace('\\\\u',\" \").replace('\\\\',\"\")\n",
        "    # remove non ASCII (emoticon, chinese word, .etc)\n",
        "    text = text.encode('ascii', 'replace').decode('ascii')\n",
        "    # remove mention, link, hashtag\n",
        "    text = ' '.join(re.sub(\"([@#][A-Za-z0-9]+)|(\\w+:\\/\\/\\S+)\",\" \", text).split())\n",
        "    # remove incomplete URL\n",
        "    return text.replace(\"http://\", \" \").replace(\"https://\", \" \")\n",
        "\n",
        "dataSB['textdata'] = dataSB['textdata'].apply(remove_tweet_special)\n",
        "\n",
        "#remove number\n",
        "def remove_number(text):\n",
        "    return  re.sub(r\"\\d+\", \"\", text)\n",
        "\n",
        "dataSB['textdata'] = dataSB['textdata'].apply(remove_number)\n",
        "\n",
        "#remove punctuation\n",
        "def remove_punctuation(text):\n",
        "    return text.translate(str.maketrans(\"\",\"\",string.punctuation))\n",
        "\n",
        "dataSB['textdata'] = dataSB['textdata'].apply(remove_punctuation)\n",
        "\n",
        "#remove whitespace leading & trailing\n",
        "def remove_whitespace_LT(text):\n",
        "    return text.strip()\n",
        "\n",
        "dataSB['textdata'] = dataSB['textdata'].apply(remove_whitespace_LT)\n",
        "\n",
        "#remove multiple whitespace into single whitespace\n",
        "def remove_whitespace_multiple(text):\n",
        "    return re.sub('\\s+',' ',text)\n",
        "\n",
        "dataSB['textdata'] = dataSB['textdata'].apply(remove_whitespace_multiple)\n",
        "\n",
        "# remove single char\n",
        "def remove_singl_char(text):\n",
        "    return re.sub(r\"\\b[a-zA-Z]\\b\", \"\", text)\n",
        "\n",
        "dataSB['textdata'] = dataSB['textdata'].apply(remove_singl_char)\n",
        "\n",
        "# NLTK word tokenize\n",
        "def word_tokenize_wrapper(text):\n",
        "    return word_tokenize(text)\n",
        "\n",
        "dataSB['textdata_tokens'] = dataSB['textdata'].apply(word_tokenize_wrapper)\n",
        "\n",
        "print('Tokenizing Result : \\n')\n",
        "print(dataSB['textdata_tokens'].head())"
      ],
      "metadata": {
        "colab": {
          "base_uri": "https://localhost:8080/"
        },
        "id": "rpUj4RmQF1AA",
        "outputId": "2c714ee6-677c-4670-f678-ac8231333e28"
      },
      "execution_count": 10,
      "outputs": [
        {
          "output_type": "stream",
          "name": "stderr",
          "text": [
            "[nltk_data] Downloading package punkt to /root/nltk_data...\n",
            "[nltk_data]   Unzipping tokenizers/punkt.zip.\n"
          ]
        },
        {
          "output_type": "stream",
          "name": "stdout",
          "text": [
            "Tokenizing Result : \n",
            "\n",
            "0    [gamawan, sebut, anggaran, ktp, elektronik, di...\n",
            "1    [pemkot, tangerang, permudah, investasi, denga...\n",
            "2    [wajah, baru, pengadaan, barangjasa, simpel, t...\n",
            "3    [pengusaha, kecil, dan, menengah, bisa, ikut, ...\n",
            "4    [mengoptimalkan, manajemen, modal, kerja, bisn...\n",
            "Name: textdata_tokens, dtype: object\n"
          ]
        }
      ]
    },
    {
      "cell_type": "code",
      "source": [
        "# NLTK calc frequency distribution\n",
        "def freqDist_wrapper(text):\n",
        "    return FreqDist(text)\n",
        "\n",
        "dataSB['textdata_tokens_fdist'] = dataSB['textdata_tokens'].apply(freqDist_wrapper)\n",
        "\n",
        "print('Frequency Tokens : \\n')\n",
        "print(dataSB['textdata_tokens_fdist'].head().apply(lambda x : x.most_common()))"
      ],
      "metadata": {
        "colab": {
          "base_uri": "https://localhost:8080/"
        },
        "id": "Z8ac_MOsF2ov",
        "outputId": "5e48f048-10c2-4c60-a894-0d55a5b48731"
      },
      "execution_count": 11,
      "outputs": [
        {
          "output_type": "stream",
          "name": "stdout",
          "text": [
            "Frequency Tokens : \n",
            "\n",
            "0    [(dan, 9), (anggaran, 8), (gamawan, 6), (ktp, ...\n",
            "1    [(tangerang, 28), (yang, 26), (kota, 22), (onl...\n",
            "2    [(yang, 49), (pengadaan, 30), (ini, 16), (peny...\n",
            "3    [(yang, 27), (dan, 23), (penyedia, 22), (penga...\n",
            "4    [(vendor, 14), (yang, 13), (pembiayaan, 8), (d...\n",
            "Name: textdata_tokens_fdist, dtype: object\n"
          ]
        }
      ]
    },
    {
      "cell_type": "code",
      "source": [
        "nltk.download('stopwords')"
      ],
      "metadata": {
        "colab": {
          "base_uri": "https://localhost:8080/"
        },
        "id": "jR019k_oF-M5",
        "outputId": "01cb1bfb-eb40-49a5-d233-ac1ece4f3846"
      },
      "execution_count": 12,
      "outputs": [
        {
          "output_type": "stream",
          "name": "stderr",
          "text": [
            "[nltk_data] Downloading package stopwords to /root/nltk_data...\n",
            "[nltk_data]   Unzipping corpora/stopwords.zip.\n"
          ]
        },
        {
          "output_type": "execute_result",
          "data": {
            "text/plain": [
              "True"
            ]
          },
          "metadata": {},
          "execution_count": 12
        }
      ]
    },
    {
      "cell_type": "code",
      "source": [
        "from nltk.corpus import stopwords\n",
        "\n",
        "# ----------------------- get stopword from NLTK stopword -------------------------------\n",
        "# get stopword indonesia\n",
        "list_stopwords = stopwords.words('indonesian')\n",
        "\n",
        "\n",
        "# ---------------------------- manualy add stopword  ------------------------------------\n",
        "# append additional stopword\n",
        "list_stopwords.extend([\"yg\", \"dg\", \"rt\", \"dgn\", \"ny\", \"d\", 'klo',\n",
        "                       'kalo', 'amp', 'biar', 'bikin', 'bilang',\n",
        "                       'gak', 'ga', 'krn', 'nya', 'nih', 'sih',\n",
        "                       'si', 'tau', 'tdk', 'tuh', 'utk', 'ya',\n",
        "                       'jd', 'jgn', 'sdh', 'aja', 'n', 't',\n",
        "                       'nyg', 'hehe', 'pen', 'u', 'nan', 'loh', 'rt',\n",
        "                       '&amp', 'yah', 'bisnis', 'pandemi', 'indonesia'])\n",
        "\n",
        "# convert list to dictionary\n",
        "list_stopwords = set(list_stopwords)\n",
        "\n",
        "#remove stopword pada list token\n",
        "def stopwords_removal(words):\n",
        "    return [word for word in words if word not in list_stopwords]\n",
        "\n",
        "dataSB['textdata_tokens_WSW'] = dataSB['textdata_tokens'].apply(stopwords_removal)\n",
        "\n",
        "print(dataSB['textdata_tokens_WSW'].head())"
      ],
      "metadata": {
        "colab": {
          "base_uri": "https://localhost:8080/"
        },
        "id": "j3OWg5-_GC_l",
        "outputId": "cb8d6d35-af4e-4c7d-f054-531ab53ae055"
      },
      "execution_count": 13,
      "outputs": [
        {
          "output_type": "stream",
          "name": "stdout",
          "text": [
            "0    [gamawan, anggaran, ktp, elektronik, dibahas, ...\n",
            "1    [pemkot, tangerang, permudah, investasi, periz...\n",
            "2    [wajah, pengadaan, barangjasa, simpel, akuntab...\n",
            "3    [pengusaha, menengah, penyedia, barangjasa, pe...\n",
            "4    [mengoptimalkan, manajemen, modal, kerja, meng...\n",
            "Name: textdata_tokens_WSW, dtype: object\n"
          ]
        }
      ]
    },
    {
      "cell_type": "code",
      "source": [
        "#import file xlsx untuk proses normalisasi\n",
        "! gdown --id 1eJ5g-7fzbLXlTl0e_dC9CLqmShBOfRkf #id file di drive"
      ],
      "metadata": {
        "colab": {
          "base_uri": "https://localhost:8080/"
        },
        "id": "zQWONOKbGJ_b",
        "outputId": "d6f967ed-52f8-4ee9-ecd1-76a34e05fa33"
      },
      "execution_count": 14,
      "outputs": [
        {
          "output_type": "stream",
          "name": "stdout",
          "text": [
            "/usr/local/lib/python3.10/dist-packages/gdown/cli.py:138: FutureWarning: Option `--id` was deprecated in version 4.3.1 and will be removed in 5.0. You don't need to pass it anymore to use a file ID.\n",
            "  warnings.warn(\n",
            "Downloading...\n",
            "From: https://drive.google.com/uc?id=1eJ5g-7fzbLXlTl0e_dC9CLqmShBOfRkf\n",
            "To: /content/normalisasi.xlsx\n",
            "100% 8.56k/8.56k [00:00<00:00, 21.2MB/s]\n"
          ]
        }
      ]
    },
    {
      "cell_type": "code",
      "source": [
        "normalizad_word = pd.read_excel('/content/normalisasi.xlsx') #lokasi file\n",
        "\n",
        "normalizad_word_dict = {}\n",
        "\n",
        "for index, row in normalizad_word.iterrows():\n",
        "    if row[0] not in normalizad_word_dict:\n",
        "        normalizad_word_dict[row[0]] = row[1]\n",
        "\n",
        "def normalized_term(document):\n",
        "    return [normalizad_word_dict[term] if term in normalizad_word_dict else term for term in document]\n",
        "\n",
        "dataSB['textdata_normalized'] = dataSB['textdata_tokens_WSW'].apply(normalized_term)\n",
        "\n",
        "dataSB['textdata_normalized'].head(10)"
      ],
      "metadata": {
        "colab": {
          "base_uri": "https://localhost:8080/"
        },
        "id": "1uP5i0RjGPY5",
        "outputId": "43187756-39d1-44a6-8747-a76585805763"
      },
      "execution_count": 15,
      "outputs": [
        {
          "output_type": "execute_result",
          "data": {
            "text/plain": [
              "0    [gamawan, anggaran, ktp, elektronik, dibahas, ...\n",
              "1    [pemkot, tangerang, permudah, investasi, periz...\n",
              "2    [wajah, pengadaan, barangjasa, simpel, akuntab...\n",
              "3    [pengusaha, menengah, penyedia, barangjasa, pe...\n",
              "4    [mengoptimalkan, manajemen, modal, kerja, meng...\n",
              "5    [ilmu, perbendaharaan, dibutuhkan, bank, pelak...\n",
              "6    [bayar, belanjaan, forum, jual, beli, kaskus, ...\n",
              "7    [libur, lebaran, pelayanan, publik, banyuwangi...\n",
              "8    [semarang, gandeng, kpk, pencegahan, korupsi, ...\n",
              "9    [pembangunan, jalan, tol, cisumdawu, dipacu, d...\n",
              "Name: textdata_normalized, dtype: object"
            ]
          },
          "metadata": {},
          "execution_count": 15
        }
      ]
    },
    {
      "cell_type": "code",
      "source": [
        "# import Sastrawi package\n",
        "from Sastrawi.Stemmer.StemmerFactory import StemmerFactory\n",
        "import swifter\n",
        "\n",
        "# create stemmer\n",
        "factory = StemmerFactory()\n",
        "stemmer = factory.create_stemmer()\n",
        "\n",
        "# stemmed\n",
        "def stemmed_wrapper(term):\n",
        "    return stemmer.stem(term)\n",
        "\n",
        "term_dict = {}\n",
        "\n",
        "for document in dataSB['textdata_normalized']:\n",
        "    for term in document:\n",
        "        if term not in term_dict:\n",
        "            term_dict[term] = ' '\n",
        "\n",
        "print(len(term_dict))"
      ],
      "metadata": {
        "colab": {
          "base_uri": "https://localhost:8080/"
        },
        "id": "dDIfZlcKGTcp",
        "outputId": "d53b20c9-91b8-44b4-f26a-110b5bf213ac"
      },
      "execution_count": 16,
      "outputs": [
        {
          "output_type": "stream",
          "name": "stdout",
          "text": [
            "1278\n"
          ]
        }
      ]
    },
    {
      "cell_type": "code",
      "source": [
        "for term in term_dict:\n",
        "    term_dict[term] = stemmed_wrapper(term)\n",
        "\n",
        "    # untuk melihat hasilnya silahkan jalankan baris di bawah ini\n",
        "    # print(term,\":\" ,term_dict[term])"
      ],
      "metadata": {
        "id": "pV7QUX8GGY8V"
      },
      "execution_count": 17,
      "outputs": []
    },
    {
      "cell_type": "code",
      "source": [
        "# apply stemmed term to dataframe\n",
        "def get_stemmed_term(document):\n",
        "    return [term_dict[term] for term in document]\n",
        "\n",
        "dataSB['textdata_tokens_stemmed'] = dataSB['textdata_normalized'].swifter.apply(get_stemmed_term)\n",
        "\n",
        "print(dataSB['textdata_tokens_stemmed'])"
      ],
      "metadata": {
        "colab": {
          "base_uri": "https://localhost:8080/",
          "height": 240,
          "referenced_widgets": [
            "2b10f883afd44431a71bc6bb6274c539",
            "291dea0317834349922262d6ec3ededb",
            "8cbb6e6002d6451caa8a8f1444c09c46",
            "2bd3b0e8dd1b437cbb603c6c65c091bb",
            "341df03f4f2046fa9aa40e349d619af4",
            "43714fa1980148419d0defbc54086fd4",
            "095c942ff2ce41f8916274b2c53bd10e",
            "340c8d79b1624e37bc03f4736118cfd0",
            "0fac0d7574ed4315a0b50c089132cc31",
            "2d747642f0ea404a96653d250b3fb932",
            "1801be9dbf8f46baaa49fdee7522ce30"
          ]
        },
        "id": "UW0-jc_gGx9h",
        "outputId": "d18147b9-5a98-4278-b452-d14af23a14b4"
      },
      "execution_count": 18,
      "outputs": [
        {
          "output_type": "display_data",
          "data": {
            "text/plain": [
              "Pandas Apply:   0%|          | 0/10 [00:00<?, ?it/s]"
            ],
            "application/vnd.jupyter.widget-view+json": {
              "version_major": 2,
              "version_minor": 0,
              "model_id": "2b10f883afd44431a71bc6bb6274c539"
            }
          },
          "metadata": {}
        },
        {
          "output_type": "stream",
          "name": "stdout",
          "text": [
            "0    [gamawan, anggar, ktp, elektronik, bahas, wapr...\n",
            "1    [pemkot, tangerang, mudah, investasi, izin, on...\n",
            "2    [wajah, ada, barangjasa, simpel, akuntabel, up...\n",
            "3    [usaha, tengah, sedia, barangjasa, perintah, l...\n",
            "4    [optimal, manajemen, modal, kerja, hadap, pasa...\n",
            "5    [ilmu, bendahara, butuh, bank, laku, ilmu, ben...\n",
            "6    [bayar, belanja, forum, jual, beli, kaskus, pa...\n",
            "7    [libur, lebaran, layan, publik, banyuwangi, la...\n",
            "8    [semarang, gandeng, kpk, cegah, korupsi, semar...\n",
            "9    [bangun, jalan, tol, cisumdawu, pacu, direktor...\n",
            "Name: textdata_tokens_stemmed, dtype: object\n"
          ]
        }
      ]
    },
    {
      "cell_type": "code",
      "source": [
        "#stopwords #2\n",
        "\n",
        "from nltk.corpus import stopwords\n",
        "\n",
        "# ----------------------- get stopword from NLTK stopword -------------------------------\n",
        "# get stopword indonesia\n",
        "list_stopwords = stopwords.words('indonesian')\n",
        "\n",
        "\n",
        "# ---------------------------- manualy add stopword  ------------------------------------\n",
        "# append additional stopword\n",
        "list_stopwords.extend([\"ada\", \"tan\", \"ton\", \"pt\", \"komentar\", \"juta\", \"unit\", \"menang\", \"artikel\",\n",
        "                       \"smartphone\", \"tagar\", \"sedia\", \"kaskus\", \"seksi\"])\n",
        "\n",
        "# convert list to dictionary\n",
        "list_stopwords = set(list_stopwords)\n",
        "\n",
        "#remove stopword pada list token\n",
        "def stopwords_removal(words):\n",
        "    return [word for word in words if word not in list_stopwords]\n",
        "\n",
        "dataSB['textdata_tokens_stemmed2'] = dataSB['textdata_tokens_stemmed'].apply(stopwords_removal)\n",
        "\n",
        "print(dataSB['textdata_tokens_stemmed2'].head())"
      ],
      "metadata": {
        "colab": {
          "base_uri": "https://localhost:8080/"
        },
        "id": "h0ilY4fQG1wr",
        "outputId": "c7efe13b-0f0d-4f33-c6c7-e213ac469643"
      },
      "execution_count": 19,
      "outputs": [
        {
          "output_type": "stream",
          "name": "stdout",
          "text": [
            "0    [gamawan, anggar, ktp, elektronik, bahas, wapr...\n",
            "1    [pemkot, tangerang, mudah, investasi, izin, on...\n",
            "2    [wajah, barangjasa, simpel, akuntabel, upaya, ...\n",
            "3    [usaha, barangjasa, perintah, laksana, barang,...\n",
            "4    [optimal, manajemen, modal, kerja, hadap, pasa...\n",
            "Name: textdata_tokens_stemmed2, dtype: object\n"
          ]
        }
      ]
    },
    {
      "cell_type": "code",
      "source": [
        "for i in range(len(dataSB)):\n",
        "        a=dataSB.iloc[i][6]\n",
        "        document.append(a)\n",
        "\n",
        "document[0:5]"
      ],
      "metadata": {
        "colab": {
          "base_uri": "https://localhost:8080/"
        },
        "id": "VXESFOOwG7-m",
        "outputId": "89d9367a-5a37-4280-ecac-3ee35470bc3a"
      },
      "execution_count": 20,
      "outputs": [
        {
          "output_type": "execute_result",
          "data": {
            "text/plain": [
              "['pembangunan', 'jalan', 'tol', 'cisumdawu', 'dipacu']"
            ]
          },
          "metadata": {},
          "execution_count": 20
        }
      ]
    },
    {
      "cell_type": "code",
      "source": [
        "doc_clean = dataSB['textdata_tokens_stemmed2']\n",
        "doc_clean"
      ],
      "metadata": {
        "colab": {
          "base_uri": "https://localhost:8080/"
        },
        "id": "RLdJGrUtHA7J",
        "outputId": "81986e09-a100-4406-d1fa-9d53dd1bafdb"
      },
      "execution_count": 21,
      "outputs": [
        {
          "output_type": "execute_result",
          "data": {
            "text/plain": [
              "0    [gamawan, anggar, ktp, elektronik, bahas, wapr...\n",
              "1    [pemkot, tangerang, mudah, investasi, izin, on...\n",
              "2    [wajah, barangjasa, simpel, akuntabel, upaya, ...\n",
              "3    [usaha, barangjasa, perintah, laksana, barang,...\n",
              "4    [optimal, manajemen, modal, kerja, hadap, pasa...\n",
              "5    [ilmu, bendahara, butuh, bank, laku, ilmu, ben...\n",
              "6    [bayar, belanja, forum, jual, beli, pakai, sak...\n",
              "7    [libur, lebaran, layan, publik, banyuwangi, la...\n",
              "8    [semarang, gandeng, kpk, cegah, korupsi, semar...\n",
              "9    [bangun, jalan, tol, cisumdawu, pacu, direktor...\n",
              "Name: textdata_tokens_stemmed2, dtype: object"
            ]
          },
          "metadata": {},
          "execution_count": 21
        }
      ]
    },
    {
      "cell_type": "code",
      "source": [
        "import gensim\n",
        "from gensim import corpora\n",
        "\n",
        "dictionary = corpora.Dictionary(doc_clean)\n",
        "print(dictionary)\n",
        "\n",
        "doc_term_matrix = [dictionary.doc2bow(doc) for doc in doc_clean]"
      ],
      "metadata": {
        "colab": {
          "base_uri": "https://localhost:8080/"
        },
        "id": "ndtqWOCmHGBk",
        "outputId": "3dd54a71-6af2-4529-d52d-fa43e9279a87"
      },
      "execution_count": 22,
      "outputs": [
        {
          "output_type": "stream",
          "name": "stdout",
          "text": [
            "Dictionary<983 unique tokens: ['administrasi', 'aju', 'anggar', 'audit', 'auditor']...>\n"
          ]
        }
      ]
    },
    {
      "cell_type": "code",
      "source": [
        "# Creating the object for LDA model using gensim library\n",
        "Lda = gensim.models.ldamodel.LdaModel\n",
        "\n",
        "total_topics = 3 # jumlah topik yang akan di extract\n",
        "number_words = 10 # jumlah kata per topik"
      ],
      "metadata": {
        "id": "1CKw2mIJHSNM"
      },
      "execution_count": 23,
      "outputs": []
    },
    {
      "cell_type": "code",
      "source": [
        "# Running and Trainign LDA model on the document term matrix.\n",
        "lda_model = Lda(doc_term_matrix, num_topics=total_topics, id2word = dictionary, passes=50)\n",
        "\n",
        "lda_model.show_topics(num_topics=total_topics, num_words=number_words)"
      ],
      "metadata": {
        "colab": {
          "base_uri": "https://localhost:8080/"
        },
        "id": "eQvwZWxUHV2-",
        "outputId": "66110333-9b4b-42d1-f489-faf8663d70f7"
      },
      "execution_count": 24,
      "outputs": [
        {
          "output_type": "execute_result",
          "data": {
            "text/plain": [
              "[(0,\n",
              "  '0.026*\"korupsi\" + 0.022*\"jalan\" + 0.022*\"tol\" + 0.018*\"semarang\" + 0.014*\"kota\" + 0.013*\"kpk\" + 0.012*\"perintah\" + 0.011*\"cegah\" + 0.010*\"golong\" + 0.009*\"cisumdawu\"'),\n",
              " (1,\n",
              "  '0.019*\"perintah\" + 0.014*\"proses\" + 0.012*\"sikap\" + 0.012*\"barangjasa\" + 0.012*\"usaha\" + 0.012*\"informasi\" + 0.012*\"kerja\" + 0.010*\"beli\" + 0.010*\"jual\" + 0.009*\"barang\"'),\n",
              " (2,\n",
              "  '0.021*\"tangerang\" + 0.019*\"kerja\" + 0.016*\"kota\" + 0.014*\"online\" + 0.011*\"vendor\" + 0.011*\"aplikasi\" + 0.009*\"informasi\" + 0.008*\"izin\" + 0.008*\"biaya\" + 0.008*\"layan\"')]"
            ]
          },
          "metadata": {},
          "execution_count": 24
        }
      ]
    },
    {
      "cell_type": "code",
      "source": [
        "# Word Count of Topic Keywords\n",
        "\n",
        "from collections import Counter\n",
        "topics = lda_model.show_topics(formatted=False)\n",
        "data_flat = [w for w_list in doc_clean for w in w_list]\n",
        "counter = Counter(data_flat)\n",
        "\n",
        "out = []\n",
        "for i, topic in topics:\n",
        "    for word, weight in topic:\n",
        "        out.append([word, i , weight, counter[word]])\n",
        "\n",
        "df_imp_wcount = pd.DataFrame(out, columns=['word', 'topic_id', 'importance', 'word_count'])\n",
        "print(df_imp_wcount)"
      ],
      "metadata": {
        "colab": {
          "base_uri": "https://localhost:8080/"
        },
        "id": "Wf4rj1n0HZpB",
        "outputId": "24bdc3ac-c38a-4570-9eb3-3d4dd142f997"
      },
      "execution_count": 25,
      "outputs": [
        {
          "output_type": "stream",
          "name": "stdout",
          "text": [
            "          word  topic_id  importance  word_count\n",
            "0      korupsi         0    0.026098          25\n",
            "1        jalan         0    0.021991          24\n",
            "2          tol         0    0.021977          21\n",
            "3     semarang         0    0.017856          17\n",
            "4         kota         0    0.013742          36\n",
            "5          kpk         0    0.012711          18\n",
            "6     perintah         0    0.011675          49\n",
            "7        cegah         0    0.010645          10\n",
            "8       golong         0    0.009615           9\n",
            "9    cisumdawu         0    0.008585           8\n",
            "10    perintah         1    0.019217          49\n",
            "11      proses         1    0.013793          29\n",
            "12       sikap         1    0.012433          18\n",
            "13  barangjasa         1    0.011759          18\n",
            "14       usaha         1    0.011756          29\n",
            "15   informasi         1    0.011756          32\n",
            "16       kerja         1    0.011754          48\n",
            "17        beli         1    0.010400          23\n",
            "18        jual         1    0.009721          14\n",
            "19      barang         1    0.009044          20\n",
            "20   tangerang         2    0.020794          28\n",
            "21       kerja         2    0.018595          48\n",
            "22        kota         2    0.016397          36\n",
            "23      online         2    0.014193          23\n",
            "24      vendor         2    0.010521          15\n",
            "25    aplikasi         2    0.010521          25\n",
            "26   informasi         2    0.009052          32\n",
            "27        izin         2    0.008317          11\n",
            "28       biaya         2    0.008317          15\n",
            "29       layan         2    0.007586          24\n"
          ]
        }
      ]
    },
    {
      "cell_type": "code",
      "source": [
        "from google.colab import drive\n",
        "drive.mount('drive')"
      ],
      "metadata": {
        "colab": {
          "base_uri": "https://localhost:8080/"
        },
        "id": "9H-YxaiSHdQ5",
        "outputId": "b8d1b92c-3ec2-4d79-beac-7715a6790293"
      },
      "execution_count": 26,
      "outputs": [
        {
          "output_type": "stream",
          "name": "stdout",
          "text": [
            "Mounted at drive\n"
          ]
        }
      ]
    },
    {
      "cell_type": "code",
      "source": [
        "#simpan ke google drive\n",
        "df_imp_wcount.to_csv('df_imp_wcount.csv')\n",
        "!cp df_imp_wcount.csv \"drive/My Drive/Colab Notebooks/LDA Indonesia/\""
      ],
      "metadata": {
        "colab": {
          "base_uri": "https://localhost:8080/"
        },
        "id": "YhygdmMzHqVU",
        "outputId": "71362fd2-99b9-4b3b-a0b5-af56a976bd93"
      },
      "execution_count": 27,
      "outputs": [
        {
          "output_type": "stream",
          "name": "stdout",
          "text": [
            "cp: cannot create regular file 'drive/My Drive/Colab Notebooks/LDA Indonesia/': Not a directory\n"
          ]
        }
      ]
    },
    {
      "cell_type": "code",
      "source": [
        "#jika simpan ke local drive\n",
        "#filedisimpan='df_imp_wcount.xlsx'\n",
        "#df_imp_wcount.to_excel(filedisimpan, index = False, header=True)"
      ],
      "metadata": {
        "id": "tBl5WjX1H1tn"
      },
      "execution_count": 28,
      "outputs": []
    },
    {
      "cell_type": "code",
      "source": [
        "#Dominant topic and its percentage contribution in each topic\n",
        "def format_topics_sentences(ldamodel=None, corpus=doc_term_matrix, texts=document):\n",
        "    # Init output\n",
        "    sent_topics_df = pd.DataFrame()\n",
        "\n",
        "    # Get main topic in each document\n",
        "    for i, row_list in enumerate(ldamodel[corpus]):\n",
        "        row = row_list[0] if ldamodel.per_word_topics else row_list\n",
        "        # print(row)\n",
        "        row = sorted(row, key=lambda x: (x[1]), reverse=True)\n",
        "        # Get the Dominant topic, Perc Contribution and Keywords for each document\n",
        "        for j, (topic_num, prop_topic) in enumerate(row):\n",
        "            if j == 0:  # => dominant topic\n",
        "                wp = ldamodel.show_topic(topic_num)\n",
        "                topic_keywords = \", \".join([word for word, prop in wp])\n",
        "                sent_topics_df = sent_topics_df.append(pd.Series([int(topic_num), round(prop_topic,4), topic_keywords]), ignore_index=True)\n",
        "            else:\n",
        "                break\n",
        "    sent_topics_df.columns = ['Dominant_Topic', 'Perc_Contribution', 'Topic_Keywords']\n",
        "\n",
        "    # Add original text to the end of the output\n",
        "    contents = pd.Series(texts)\n",
        "    sent_topics_df = pd.concat([sent_topics_df, contents], axis=1)\n",
        "    return(sent_topics_df)"
      ],
      "metadata": {
        "id": "s2EbNwSRH-Rj"
      },
      "execution_count": 29,
      "outputs": []
    },
    {
      "cell_type": "code",
      "source": [
        "df_topic_sents_keywords = format_topics_sentences(ldamodel=lda_model, corpus=doc_term_matrix, texts=doc_clean)\n",
        "\n",
        "# Format\n",
        "df_dominant_topic = df_topic_sents_keywords.reset_index()\n",
        "df_dominant_topic.columns = ['Document_No', 'Dominant_Topic', 'Topic_Perc_Contrib', 'Keywords', 'Text']\n",
        "print(df_dominant_topic.head(10))"
      ],
      "metadata": {
        "colab": {
          "base_uri": "https://localhost:8080/"
        },
        "id": "LE_k2cnxICbb",
        "outputId": "0212b369-5e9f-4ce2-d60d-33d3922b9370"
      },
      "execution_count": 30,
      "outputs": [
        {
          "output_type": "stream",
          "name": "stdout",
          "text": [
            "   Document_No  Dominant_Topic  Topic_Perc_Contrib  \\\n",
            "0            0               2              0.9956   \n",
            "1            1               2              0.9986   \n",
            "2            2               1              0.9985   \n",
            "3            3               1              0.9977   \n",
            "4            4               2              0.9966   \n",
            "5            5               2              0.9956   \n",
            "6            6               1              0.9961   \n",
            "7            7               1              0.9961   \n",
            "8            8               0              0.9977   \n",
            "9            9               0              0.9979   \n",
            "\n",
            "                                            Keywords  \\\n",
            "0  tangerang, kerja, kota, online, vendor, aplika...   \n",
            "1  tangerang, kerja, kota, online, vendor, aplika...   \n",
            "2  perintah, proses, sikap, barangjasa, usaha, in...   \n",
            "3  perintah, proses, sikap, barangjasa, usaha, in...   \n",
            "4  tangerang, kerja, kota, online, vendor, aplika...   \n",
            "5  tangerang, kerja, kota, online, vendor, aplika...   \n",
            "6  perintah, proses, sikap, barangjasa, usaha, in...   \n",
            "7  perintah, proses, sikap, barangjasa, usaha, in...   \n",
            "8  korupsi, jalan, tol, semarang, kota, kpk, peri...   \n",
            "9  korupsi, jalan, tol, semarang, kota, kpk, peri...   \n",
            "\n",
            "                                                Text  \n",
            "0  [gamawan, anggar, ktp, elektronik, bahas, wapr...  \n",
            "1  [pemkot, tangerang, mudah, investasi, izin, on...  \n",
            "2  [wajah, barangjasa, simpel, akuntabel, upaya, ...  \n",
            "3  [usaha, barangjasa, perintah, laksana, barang,...  \n",
            "4  [optimal, manajemen, modal, kerja, hadap, pasa...  \n",
            "5  [ilmu, bendahara, butuh, bank, laku, ilmu, ben...  \n",
            "6  [bayar, belanja, forum, jual, beli, pakai, sak...  \n",
            "7  [libur, lebaran, layan, publik, banyuwangi, la...  \n",
            "8  [semarang, gandeng, kpk, cegah, korupsi, semar...  \n",
            "9  [bangun, jalan, tol, cisumdawu, pacu, direktor...  \n"
          ]
        }
      ]
    },
    {
      "cell_type": "code",
      "source": [
        "#simpan ke google drive\n",
        "df_dominant_topic.to_csv('df_dominant_topic.csv')\n",
        "!cp df_dominant_topic.csv \"drive/My Drive/Colab Notebooks/LDA Indonesia/\""
      ],
      "metadata": {
        "colab": {
          "base_uri": "https://localhost:8080/"
        },
        "id": "41__tVAXIH55",
        "outputId": "b6c65b8c-9d0a-4c33-c1ce-01aba9932ba3"
      },
      "execution_count": 31,
      "outputs": [
        {
          "output_type": "stream",
          "name": "stdout",
          "text": [
            "cp: cannot create regular file 'drive/My Drive/Colab Notebooks/LDA Indonesia/': Not a directory\n"
          ]
        }
      ]
    },
    {
      "cell_type": "code",
      "source": [
        "# jika simpan ke local drive\n",
        "# filedisimpan='df_dominant_topic.xlsx'\n",
        "# df_dominant_topic.to_excel(filedisimpan, index = False, header=True)"
      ],
      "metadata": {
        "id": "IiGXqXlrIMub"
      },
      "execution_count": 32,
      "outputs": []
    },
    {
      "cell_type": "code",
      "source": [
        "import pyLDAvis.gensim\n",
        "import pickle\n",
        "import pyLDAvis\n",
        "# Visualize the topics\n",
        "pyLDAvis.enable_notebook()"
      ],
      "metadata": {
        "id": "oUiDLC_dITMY"
      },
      "execution_count": 33,
      "outputs": []
    },
    {
      "cell_type": "code",
      "source": [
        "import os\n",
        "LDAvis_data_filepath = os.path.join('ldavis_prepared_'+str(total_topics))"
      ],
      "metadata": {
        "colab": {
          "base_uri": "https://localhost:8080/"
        },
        "id": "tzrS-GysIUzk",
        "outputId": "93029068-dba2-4b85-aea9-fad8527e31b2"
      },
      "execution_count": 34,
      "outputs": [
        {
          "output_type": "stream",
          "name": "stderr",
          "text": [
            "/usr/local/lib/python3.10/dist-packages/ipykernel/ipkernel.py:283: DeprecationWarning: `should_run_async` will not call `transform_cell` automatically in the future. Please pass the result to `transformed_cell` argument and any exception that happen during thetransform in `preprocessing_exc_tuple` in IPython 7.17 and above.\n",
            "  and should_run_async(code)\n"
          ]
        }
      ]
    },
    {
      "cell_type": "code",
      "source": [
        "corpus = [dictionary.doc2bow(text) for text in doc_clean]"
      ],
      "metadata": {
        "colab": {
          "base_uri": "https://localhost:8080/"
        },
        "id": "J_zupEcaIY2f",
        "outputId": "e4b642d6-a2df-488c-cace-6cbdd17292bc"
      },
      "execution_count": 35,
      "outputs": [
        {
          "output_type": "stream",
          "name": "stderr",
          "text": [
            "/usr/local/lib/python3.10/dist-packages/ipykernel/ipkernel.py:283: DeprecationWarning: `should_run_async` will not call `transform_cell` automatically in the future. Please pass the result to `transformed_cell` argument and any exception that happen during thetransform in `preprocessing_exc_tuple` in IPython 7.17 and above.\n",
            "  and should_run_async(code)\n"
          ]
        }
      ]
    },
    {
      "cell_type": "code",
      "source": [
        "# proses ini mungkin agak lama\n",
        "if 1 == 1:\n",
        "    LDAvis_prepared = pyLDAvis.gensim.prepare(lda_model, corpus, dictionary)\n",
        "    with open(LDAvis_data_filepath, 'wb') as f:\n",
        "        pickle.dump(LDAvis_prepared, f)"
      ],
      "metadata": {
        "colab": {
          "base_uri": "https://localhost:8080/"
        },
        "id": "jRZPbutDIcHc",
        "outputId": "2b60c104-7ece-4b7c-f9cf-f4a024876674"
      },
      "execution_count": 36,
      "outputs": [
        {
          "output_type": "stream",
          "name": "stderr",
          "text": [
            "/usr/local/lib/python3.10/dist-packages/ipykernel/ipkernel.py:283: DeprecationWarning: `should_run_async` will not call `transform_cell` automatically in the future. Please pass the result to `transformed_cell` argument and any exception that happen during thetransform in `preprocessing_exc_tuple` in IPython 7.17 and above.\n",
            "  and should_run_async(code)\n"
          ]
        }
      ]
    },
    {
      "cell_type": "code",
      "source": [
        "# load the pre-prepared pyLDAvis data from disk\n",
        "with open(LDAvis_data_filepath, 'rb') as f:\n",
        "    LDAvis_prepared = pickle.load(f)"
      ],
      "metadata": {
        "colab": {
          "base_uri": "https://localhost:8080/"
        },
        "id": "csVKY4YyIfS8",
        "outputId": "041f8f1f-2466-47dc-c3db-93b738036b2d"
      },
      "execution_count": 37,
      "outputs": [
        {
          "output_type": "stream",
          "name": "stderr",
          "text": [
            "/usr/local/lib/python3.10/dist-packages/ipykernel/ipkernel.py:283: DeprecationWarning: `should_run_async` will not call `transform_cell` automatically in the future. Please pass the result to `transformed_cell` argument and any exception that happen during thetransform in `preprocessing_exc_tuple` in IPython 7.17 and above.\n",
            "  and should_run_async(code)\n"
          ]
        }
      ]
    },
    {
      "cell_type": "code",
      "source": [
        "# proses ini mungkin agak lama\n",
        "LDAvis_prepared"
      ],
      "metadata": {
        "colab": {
          "base_uri": "https://localhost:8080/",
          "height": 916
        },
        "id": "putwfy7uImz3",
        "outputId": "4f4efee0-8b97-4862-dd50-5d72a5f440e5"
      },
      "execution_count": 39,
      "outputs": [
        {
          "output_type": "stream",
          "name": "stderr",
          "text": [
            "/usr/local/lib/python3.10/dist-packages/ipykernel/ipkernel.py:283: DeprecationWarning: `should_run_async` will not call `transform_cell` automatically in the future. Please pass the result to `transformed_cell` argument and any exception that happen during thetransform in `preprocessing_exc_tuple` in IPython 7.17 and above.\n",
            "  and should_run_async(code)\n"
          ]
        },
        {
          "output_type": "execute_result",
          "data": {
            "text/plain": [
              "PreparedData(topic_coordinates=              x         y  topics  cluster       Freq\n",
              "topic                                                \n",
              "1     -0.081593  0.100068       1        1  40.576035\n",
              "2     -0.068292 -0.106169       2        1  36.613644\n",
              "0      0.149885  0.006101       3        1  22.810320, topic_info=          Term       Freq      Total Category  logprob  loglift\n",
              "822    korupsi  17.000000  17.000000  Default  30.0000  30.0000\n",
              "975        tol  14.000000  14.000000  Default  29.0000  29.0000\n",
              "248  tangerang  21.000000  21.000000  Default  28.0000  28.0000\n",
              "165      jalan  16.000000  16.000000  Default  27.0000  27.0000\n",
              "854   semarang  12.000000  12.000000  Default  26.0000  26.0000\n",
              "..         ...        ...        ...      ...      ...      ...\n",
              "123     daerah   3.541329  11.716317   Topic3  -5.2038   0.2815\n",
              "176      kerja   4.202756  36.909528   Topic3  -5.0326  -0.6948\n",
              "203      milik   2.877608  10.293384   Topic3  -5.4113   0.2034\n",
              "20       capai   2.877492   7.202104   Topic3  -5.4114   0.5605\n",
              "14       biaya   2.876708  11.738677   Topic3  -5.4117   0.0717\n",
              "\n",
              "[183 rows x 6 columns], token_table=      Topic      Freq           Term\n",
              "term                                \n",
              "641       2  0.795818            aci\n",
              "94        2  0.795818           adhi\n",
              "642       2  0.795818           ajar\n",
              "277       1  0.780664      akuntabel\n",
              "278       1  0.978637  akuntabilitas\n",
              "...     ...       ...            ...\n",
              "266       2  0.329089          warga\n",
              "266       3  0.109696          warga\n",
              "981       3  0.885281           wida\n",
              "268       2  0.996477     wismansyah\n",
              "792       1  0.926325          yusuf\n",
              "\n",
              "[217 rows x 3 columns], R=30, lambda_step=0.01, plot_opts={'xlab': 'PC1', 'ylab': 'PC2'}, topic_order=[2, 3, 1])"
            ],
            "text/html": [
              "\n",
              "<link rel=\"stylesheet\" type=\"text/css\" href=\"https://cdn.jsdelivr.net/gh/bmabey/pyLDAvis/pyLDAvis/js/ldavis.v1.0.0.css\">\n",
              "\n",
              "\n",
              "<div id=\"ldavis_el1711345360261748808557741362\"></div>\n",
              "<script type=\"text/javascript\">\n",
              "\n",
              "var ldavis_el1711345360261748808557741362_data = {\"mdsDat\": {\"x\": [-0.08159315968479212, -0.06829168639635408, 0.1498848460811462], \"y\": [0.1000679363268804, -0.10616873446023775, 0.006100798133357433], \"topics\": [1, 2, 3], \"cluster\": [1, 1, 1], \"Freq\": [40.57603530758921, 36.61364449359632, 22.81032019881447]}, \"tinfo\": {\"Term\": [\"korupsi\", \"tol\", \"tangerang\", \"jalan\", \"semarang\", \"kota\", \"sikap\", \"kpk\", \"cegah\", \"golong\", \"online\", \"barangjasa\", \"jual\", \"vendor\", \"cisumdawu\", \"izin\", \"meter\", \"publik\", \"aparatur\", \"biaya\", \"belanja\", \"libat\", \"modal\", \"ilmu\", \"negara\", \"teknologi\", \"saku\", \"konstruksi\", \"jawa\", \"km\", \"sikap\", \"jual\", \"belanja\", \"teknologi\", \"saku\", \"transaksi\", \"fjb\", \"banyuwangi\", \"barangjasa\", \"metode\", \"yusuf\", \"lebaran\", \"publik\", \"tinggal\", \"akuntabel\", \"forum\", \"antre\", \"libur\", \"spesifikasi\", \"daya\", \"kolaborasi\", \"simpel\", \"etendering\", \"akuntabilitas\", \"kenal\", \"prosedur\", \"sederhana\", \"partisipasi\", \"prinsip\", \"kirim\", \"harga\", \"penuh\", \"surat\", \"pilih\", \"proses\", \"perintah\", \"beli\", \"barang\", \"fasilitas\", \"usaha\", \"bayar\", \"persen\", \"informasi\", \"cepat\", \"layan\", \"buka\", \"jasa\", \"manfaat\", \"sistem\", \"data\", \"kerja\", \"aplikasi\", \"warga\", \"tangerang\", \"izin\", \"modal\", \"ilmu\", \"bendahara\", \"btmu\", \"modul\", \"gamawan\", \"vendor\", \"bpmptsp\", \"investasi\", \"nasabah\", \"presiden\", \"bahas\", \"adhi\", \"walikota\", \"arief\", \"of\", \"branko\", \"aci\", \"ajar\", \"wismansyah\", \"informatika\", \"berkas\", \"pemkot\", \"kartu\", \"bantu\", \"optimal\", \"kas\", \"pasok\", \"perijinan\", \"online\", \"mohon\", \"uang\", \"ktp\", \"biaya\", \"cari\", \"mudah\", \"masyarakat\", \"kota\", \"kerja\", \"bank\", \"aplikasi\", \"elektronik\", \"ijin\", \"bangun\", \"anggar\", \"informasi\", \"layan\", \"duduk\", \"usaha\", \"sistem\", \"perintah\", \"bayar\", \"beli\", \"korupsi\", \"tol\", \"semarang\", \"cegah\", \"golong\", \"cisumdawu\", \"meter\", \"aparatur\", \"konstruksi\", \"jawa\", \"km\", \"donny\", \"ltunnel\", \"wida\", \"barat\", \"tindak\", \"pidana\", \"berantas\", \"hendrar\", \"jalan\", \"tempuh\", \"jembatan\", \"fase\", \"rtunnel\", \"bandungcirebon\", \"libat\", \"bandung\", \"bandara\", \"pupr\", \"lahan\", \"kpk\", \"hubung\", \"upaya\", \"negara\", \"sipil\", \"kota\", \"tangan\", \"perintah\", \"bangun\", \"tingkat\", \"daerah\", \"kerja\", \"milik\", \"capai\", \"biaya\"], \"Freq\": [17.0, 14.0, 21.0, 16.0, 12.0, 26.0, 14.0, 13.0, 7.0, 6.0, 18.0, 14.0, 11.0, 12.0, 6.0, 9.0, 5.0, 11.0, 4.0, 11.0, 8.0, 5.0, 6.0, 6.0, 6.0, 7.0, 7.0, 4.0, 4.0, 4.0, 14.252087318921767, 11.142502252435808, 8.03292145614958, 7.255532662377623, 7.255520919328358, 6.478134260656267, 5.700730521185244, 5.7007294536353115, 13.479309273311097, 4.923342261188253, 4.923332119463889, 4.145936920392332, 10.366207697345331, 3.3685564001323556, 3.3685561332448724, 3.368542788870708, 3.3685406537708418, 3.3685406537708418, 2.591162268610732, 2.5911617348357656, 2.5911617348357656, 2.5911614679482824, 2.5911614679482824, 2.5911595997358994, 2.591159332848416, 2.591159332848416, 2.591159332848416, 2.5911590659609325, 2.591157464636033, 2.5911558633111333, 6.480194632027252, 5.701262161051955, 5.701158074933472, 7.2579826894742085, 15.810223418555383, 22.02795129156761, 11.920998095488445, 10.366322992738112, 4.146820851736982, 13.475992395668792, 10.365599193883435, 5.700921078848313, 13.475879235375876, 7.256677075905963, 10.364641601593396, 6.480264022772906, 5.700808986105331, 6.4788260330129495, 8.810889929535241, 7.255392279561414, 13.473569057320534, 8.808779383317397, 5.700898660299717, 21.507602358829633, 8.60295752175416, 6.325662439888032, 6.3256556967882185, 5.566558460016145, 4.807464594793978, 4.807461704894058, 4.807456888394191, 10.882684936053067, 4.048378435971599, 4.048378435971599, 4.048368321321878, 4.048364949771972, 4.048359651622118, 3.289281680849512, 3.289280958374532, 3.289280958374532, 3.289267231349911, 3.2892648230999777, 3.2892648230999777, 3.2892648230999777, 2.5301825174774915, 2.5301825174774915, 2.5301825174774915, 2.5301825174774915, 2.530176256027665, 2.5301752927276913, 2.530171680352791, 2.530171680352791, 2.530171198702804, 5.567196646248508, 14.679905541515504, 5.56864689435843, 4.809112319398443, 4.809081493799295, 8.602819769857966, 6.327371334040806, 7.845715119080827, 7.087345173788655, 16.960431531492343, 19.233202956683485, 5.568159464571901, 10.881774617578225, 7.086228227469522, 4.0492193968483585, 7.0851960515480465, 6.325273748348773, 9.362710284158117, 7.846253122115959, 6.326747597308043, 7.844270169120758, 6.3267620468076435, 7.842008340783265, 6.325199574250823, 6.324609071367142, 16.817333104376633, 14.161963582374508, 11.506567654370734, 6.859652686706783, 6.19580400477404, 5.531963724750913, 4.868118043500176, 4.204268461362831, 3.540425480725899, 3.540424880589498, 3.540424880589498, 3.540424880589498, 2.8765791993387606, 2.87657889927056, 2.876578299134159, 2.876576798793156, 2.8765761986567546, 2.8765761986567546, 2.876575298452153, 14.17105684912511, 2.2127320177470207, 2.2127318677129204, 2.2127318677129204, 2.2127318677129204, 2.2127315676447195, 4.205322600951495, 1.5488843860529795, 1.5488842360188793, 1.5488842360188793, 1.5488842360188793, 8.19077322860457, 3.5414790201781616, 3.542473746263109, 4.205628670516094, 4.208179550289287, 8.855205243119254, 3.5421403704922563, 7.5235415777784045, 4.205124255870906, 3.541417506197041, 3.5413292861460683, 4.202756417700071, 2.8776084332667757, 2.877491706736747, 2.8767082286650134], \"Total\": [17.0, 14.0, 21.0, 16.0, 12.0, 26.0, 14.0, 13.0, 7.0, 6.0, 18.0, 14.0, 11.0, 12.0, 6.0, 9.0, 5.0, 11.0, 4.0, 11.0, 8.0, 5.0, 6.0, 6.0, 6.0, 7.0, 7.0, 4.0, 4.0, 4.0, 14.726426116228229, 11.616843098473163, 8.50725926312466, 7.729864697647415, 7.729863529710953, 6.952468043534415, 6.175071941680858, 6.175072185966261, 14.70809178220863, 5.397676964951348, 5.397675113872994, 4.62027964483636, 11.598429272119255, 3.842884337824024, 3.842884372449303, 3.8428832223142875, 3.8428829167637075, 3.842883048043545, 3.065487767376526, 3.065487658507238, 3.065487843069444, 3.0654876581228914, 3.0654876586044115, 3.0654873123764173, 3.0654872744835453, 3.0654872971812686, 3.065487384028701, 3.0654872563079767, 3.0654875530157577, 3.0654867803403496, 7.711470859887513, 6.9340411231643, 6.934038570915137, 9.152692422934107, 22.827361163376473, 37.39350121012928, 18.46691374746675, 15.86725154707361, 5.379255904567524, 22.867723727367146, 16.912108236901854, 8.166557867873465, 25.049780837105097, 11.430018543077606, 19.09427900248766, 9.798173006049078, 8.166541816697013, 9.988744934522014, 16.02128186094337, 12.284316775798636, 36.90952843170409, 19.91185298603046, 9.116066602650632, 21.988042494597856, 9.083388283188354, 6.806095622876106, 6.806095838779112, 6.046998687483171, 5.287900378943815, 5.287901163346211, 5.28790000491874, 12.13785931387558, 4.528803854425943, 4.528804148452976, 4.528803102659967, 4.5288028928259045, 4.528802399012473, 3.7697057672105614, 3.769705959997401, 3.76970607883447, 3.769704837007336, 3.7697044357338214, 3.769704500381897, 3.7697046046122935, 3.010606864594749, 3.010606872799819, 3.0106069250952348, 3.0106071543840844, 3.0106064015473675, 3.0106067077664074, 3.0106061343930195, 3.0106062991239018, 3.010606136476596, 6.710836662402206, 18.26550526015666, 6.8241858852055115, 6.065097508249907, 6.065096908021251, 11.738677079233245, 8.360696558842283, 10.656287066233553, 9.783623344583342, 26.839763313570987, 36.90952843170409, 7.601600481757332, 19.91185298603046, 12.115892283600074, 5.306021775332934, 13.880082217404873, 11.470335926727532, 25.049780837105097, 19.09427900248766, 12.247695286037995, 22.867723727367146, 16.02128186094337, 37.39350121012928, 16.912108236901854, 18.46691374746675, 17.329530192466596, 14.674145638208067, 12.018758620855568, 7.371834529343485, 6.707986996152918, 6.044140362287015, 5.380293410454333, 4.716447184878592, 4.052599745203541, 4.0525993419749415, 4.052599863110075, 4.0526002243475645, 3.3887530147445286, 3.3887528826552393, 3.3887527597367795, 3.3887531315222743, 3.3887529699014904, 3.388753378313984, 3.3887527986874915, 16.986245836294835, 2.7249054698317217, 2.7249054532413632, 2.724905506931989, 2.7249055170968344, 2.7249054936895503, 5.4935059709691405, 2.061057283641612, 2.061057199937971, 2.0610572003293823, 2.0610572035871937, 13.253492002903792, 5.5705096606194235, 5.588490535513843, 6.99341301921073, 7.029440785264416, 26.839763313570987, 6.34760402684766, 37.39350121012928, 13.880082217404873, 9.439045320418533, 11.716316549874167, 36.90952843170409, 10.293384494905332, 7.202103510855681, 11.738677079233245], \"Category\": [\"Default\", \"Default\", \"Default\", \"Default\", \"Default\", \"Default\", \"Default\", \"Default\", \"Default\", \"Default\", \"Default\", \"Default\", \"Default\", \"Default\", \"Default\", \"Default\", \"Default\", \"Default\", \"Default\", \"Default\", \"Default\", \"Default\", \"Default\", \"Default\", \"Default\", \"Default\", \"Default\", \"Default\", \"Default\", \"Default\", \"Topic1\", \"Topic1\", \"Topic1\", \"Topic1\", \"Topic1\", \"Topic1\", \"Topic1\", \"Topic1\", \"Topic1\", \"Topic1\", \"Topic1\", \"Topic1\", \"Topic1\", \"Topic1\", \"Topic1\", \"Topic1\", \"Topic1\", \"Topic1\", \"Topic1\", \"Topic1\", \"Topic1\", \"Topic1\", \"Topic1\", \"Topic1\", \"Topic1\", \"Topic1\", \"Topic1\", \"Topic1\", \"Topic1\", \"Topic1\", \"Topic1\", \"Topic1\", \"Topic1\", \"Topic1\", \"Topic1\", \"Topic1\", \"Topic1\", \"Topic1\", \"Topic1\", \"Topic1\", \"Topic1\", \"Topic1\", \"Topic1\", \"Topic1\", \"Topic1\", \"Topic1\", \"Topic1\", \"Topic1\", \"Topic1\", \"Topic1\", \"Topic1\", \"Topic1\", \"Topic1\", \"Topic2\", \"Topic2\", \"Topic2\", \"Topic2\", \"Topic2\", \"Topic2\", \"Topic2\", \"Topic2\", \"Topic2\", \"Topic2\", \"Topic2\", \"Topic2\", \"Topic2\", \"Topic2\", \"Topic2\", \"Topic2\", \"Topic2\", \"Topic2\", \"Topic2\", \"Topic2\", \"Topic2\", \"Topic2\", \"Topic2\", \"Topic2\", \"Topic2\", \"Topic2\", \"Topic2\", \"Topic2\", \"Topic2\", \"Topic2\", \"Topic2\", \"Topic2\", \"Topic2\", \"Topic2\", \"Topic2\", \"Topic2\", \"Topic2\", \"Topic2\", \"Topic2\", \"Topic2\", \"Topic2\", \"Topic2\", \"Topic2\", \"Topic2\", \"Topic2\", \"Topic2\", \"Topic2\", \"Topic2\", \"Topic2\", \"Topic2\", \"Topic2\", \"Topic2\", \"Topic2\", \"Topic2\", \"Topic2\", \"Topic3\", \"Topic3\", \"Topic3\", \"Topic3\", \"Topic3\", \"Topic3\", \"Topic3\", \"Topic3\", \"Topic3\", \"Topic3\", \"Topic3\", \"Topic3\", \"Topic3\", \"Topic3\", \"Topic3\", \"Topic3\", \"Topic3\", \"Topic3\", \"Topic3\", \"Topic3\", \"Topic3\", \"Topic3\", \"Topic3\", \"Topic3\", \"Topic3\", \"Topic3\", \"Topic3\", \"Topic3\", \"Topic3\", \"Topic3\", \"Topic3\", \"Topic3\", \"Topic3\", \"Topic3\", \"Topic3\", \"Topic3\", \"Topic3\", \"Topic3\", \"Topic3\", \"Topic3\", \"Topic3\", \"Topic3\", \"Topic3\", \"Topic3\", \"Topic3\"], \"logprob\": [30.0, 29.0, 28.0, 27.0, 26.0, 25.0, 24.0, 23.0, 22.0, 21.0, 20.0, 19.0, 18.0, 17.0, 16.0, 15.0, 14.0, 13.0, 12.0, 11.0, 10.0, 9.0, 8.0, 7.0, 6.0, 5.0, 4.0, 3.0, 2.0, 1.0, -4.3874, -4.6335, -4.9607, -5.0625, -5.0625, -5.1758, -5.3037, -5.3037, -4.4431, -5.4503, -5.4503, -5.6221, -4.7057, -5.8298, -5.8298, -5.8298, -5.8298, -5.8298, -6.0922, -6.0922, -6.0922, -6.0922, -6.0922, -6.0922, -6.0922, -6.0922, -6.0922, -6.0922, -6.0922, -6.0922, -5.1755, -5.3036, -5.3036, -5.0622, -4.2836, -3.952, -4.566, -4.7057, -5.6219, -4.4434, -4.7058, -5.3036, -4.4434, -5.0623, -4.7059, -5.1755, -5.3037, -5.1757, -4.8683, -5.0625, -4.4435, -4.8685, -5.3036, -3.8731, -4.7894, -5.0969, -5.0969, -5.2247, -5.3713, -5.3713, -5.3713, -4.5543, -5.5432, -5.5432, -5.5432, -5.5432, -5.5432, -5.7508, -5.7508, -5.7508, -5.7508, -5.7509, -5.7509, -5.7509, -6.0132, -6.0132, -6.0132, -6.0132, -6.0132, -6.0132, -6.0132, -6.0132, -6.0132, -5.2246, -4.255, -5.2244, -5.371, -5.371, -4.7894, -5.0966, -4.8815, -4.9832, -4.1106, -3.9849, -5.2244, -4.5544, -4.9834, -5.543, -4.9835, -5.097, -4.7048, -4.8815, -5.0967, -4.8817, -5.0967, -4.882, -5.097, -5.0971, -3.6459, -3.8177, -4.0254, -4.5426, -4.6444, -4.7578, -4.8856, -5.0322, -5.2041, -5.2041, -5.2041, -5.2041, -5.4117, -5.4117, -5.4117, -5.4117, -5.4117, -5.4117, -5.4117, -3.8171, -5.6741, -5.6741, -5.6741, -5.6741, -5.6741, -5.032, -6.0308, -6.0308, -6.0308, -6.0308, -4.3653, -5.2038, -5.2035, -5.0319, -5.0313, -4.2873, -5.2036, -4.4503, -5.032, -5.2038, -5.2038, -5.0326, -5.4113, -5.4114, -5.4117], \"loglift\": [30.0, 29.0, 28.0, 27.0, 26.0, 25.0, 24.0, 23.0, 22.0, 21.0, 20.0, 19.0, 18.0, 17.0, 16.0, 15.0, 14.0, 13.0, 12.0, 11.0, 10.0, 9.0, 8.0, 7.0, 6.0, 5.0, 4.0, 3.0, 2.0, 1.0, 0.8693, 0.8603, 0.8446, 0.8387, 0.8387, 0.8313, 0.8221, 0.8221, 0.8148, 0.81, 0.81, 0.7937, 0.7897, 0.7703, 0.7703, 0.7702, 0.7702, 0.7702, 0.7339, 0.7339, 0.7339, 0.7339, 0.7339, 0.7339, 0.7339, 0.7339, 0.7339, 0.7339, 0.7339, 0.7339, 0.728, 0.7062, 0.7062, 0.67, 0.5347, 0.3728, 0.4643, 0.4763, 0.6418, 0.3732, 0.4125, 0.5426, 0.282, 0.4477, 0.291, 0.4886, 0.5426, 0.4691, 0.3041, 0.3754, -0.1057, 0.0864, 0.4326, 0.9827, 0.9504, 0.9315, 0.9315, 0.922, 0.9095, 0.9095, 0.9095, 0.8956, 0.8926, 0.8926, 0.8926, 0.8926, 0.8926, 0.8684, 0.8684, 0.8684, 0.8684, 0.8684, 0.8684, 0.8684, 0.8309, 0.8309, 0.8309, 0.8309, 0.8309, 0.8309, 0.8309, 0.8309, 0.8309, 0.8179, 0.7862, 0.8014, 0.7727, 0.7727, 0.694, 0.7261, 0.6986, 0.6824, 0.5457, 0.3529, 0.6935, 0.4005, 0.4684, 0.7344, 0.3323, 0.4095, 0.0206, 0.1154, 0.3442, -0.0652, 0.0756, -0.5573, 0.0213, -0.0668, 1.448, 1.4424, 1.4344, 1.4059, 1.3985, 1.3894, 1.3779, 1.363, 1.3428, 1.3428, 1.3428, 1.3428, 1.3141, 1.3141, 1.3141, 1.3141, 1.3141, 1.3141, 1.3141, 1.2968, 1.2698, 1.2698, 1.2698, 1.2698, 1.2698, 1.2107, 1.1923, 1.1923, 1.1923, 1.1923, 0.9967, 1.025, 1.0221, 0.9694, 0.9649, 0.3691, 0.8946, -0.1255, 0.2838, 0.4976, 0.2815, -0.6948, 0.2034, 0.5605, 0.0717]}, \"token.table\": {\"Topic\": [2, 2, 2, 1, 1, 1, 2, 1, 3, 1, 2, 2, 2, 3, 3, 3, 1, 2, 3, 1, 2, 2, 1, 1, 2, 3, 1, 2, 3, 1, 2, 1, 1, 2, 2, 3, 2, 2, 3, 2, 2, 2, 1, 2, 3, 1, 2, 3, 1, 2, 3, 1, 2, 3, 3, 1, 2, 3, 1, 2, 1, 3, 1, 2, 1, 2, 3, 1, 3, 1, 2, 1, 1, 2, 3, 1, 2, 3, 2, 3, 1, 2, 2, 1, 2, 3, 2, 2, 2, 1, 2, 3, 1, 3, 3, 3, 1, 2, 2, 1, 1, 2, 3, 1, 3, 1, 3, 3, 1, 2, 3, 2, 3, 1, 2, 3, 1, 2, 3, 1, 1, 3, 1, 3, 1, 2, 1, 2, 3, 3, 1, 1, 2, 3, 2, 2, 1, 2, 1, 2, 2, 2, 3, 2, 1, 2, 2, 1, 2, 2, 1, 2, 2, 3, 1, 2, 3, 1, 3, 3, 1, 2, 3, 2, 1, 1, 1, 2, 3, 1, 2, 3, 3, 1, 1, 3, 1, 1, 1, 2, 3, 1, 2, 3, 1, 1, 2, 1, 2, 3, 2, 1, 3, 3, 1, 1, 2, 3, 3, 1, 1, 2, 1, 2, 3, 1, 2, 3, 1, 2, 2, 1, 2, 3, 3, 2, 1], \"Freq\": [0.7958183458931806, 0.7958180784544057, 0.795818323889212, 0.7806636133805708, 0.9786372260906047, 0.43590702416563765, 0.5230884289987652, 0.7806639090962617, 0.8480960017583586, 0.4519920876431802, 0.5524347737861092, 0.7958180126678602, 0.8832357094829794, 0.9703757858152561, 0.9703757464063629, 0.7339704091138879, 0.21613704825452418, 0.5043197792605564, 0.28818273100603226, 0.2631024880615196, 0.7893074641845588, 0.9964768869546974, 0.9716485604226396, 0.6302288692110825, 0.18906866076332474, 0.1260457738422165, 0.8838672067388924, 0.06798978513376096, 0.8852814627388232, 0.5912923368229288, 0.3547754020937573, 0.9403733626265027, 0.6498108002289301, 0.32490540011446506, 0.9922277662172385, 0.8852813011410698, 0.9964768150213102, 0.7666962758454097, 0.2555654252818032, 0.8832354256391233, 0.7958183595409679, 0.9455548784371541, 0.6123590588057378, 0.20411968626857926, 0.20411968626857926, 0.1388483237560675, 0.4165449712682025, 0.4165449712682025, 0.2392145183028796, 0.7176435549086388, 0.9495601091067084, 0.6124224535260644, 0.26246676579688477, 0.08748892193229492, 0.9926969991361496, 0.2560531705702523, 0.42675528428375387, 0.34140422742700305, 0.5698322607400289, 0.4070230433857349, 0.9786371155905655, 0.9870206234428088, 0.48988808587031224, 0.48988808587031224, 0.3301448961719767, 0.5777535683009593, 0.08253622404299417, 0.9786371155595436, 0.7339704055469539, 0.7435972690207212, 0.1858993172551803, 0.971648598860987, 0.7806638470250781, 0.9455549453183799, 0.894456116781539, 0.778061683564155, 0.1296769472606925, 0.8852814525632968, 0.35903357535468416, 0.7180671507093683, 0.18846511423094442, 0.7538604569237777, 0.8815626670746807, 0.5189666162964466, 0.3592845805129245, 0.07984101789176101, 0.9964768323305012, 0.8832353682961508, 0.9908196940845643, 0.11774232042059359, 0.05887116021029679, 0.824196242944155, 0.7347051095400772, 0.24490170318002574, 0.9870208383468502, 0.7339704200088614, 0.946900970147885, 0.9964769883097584, 0.9964770222107792, 0.9786372381876619, 0.3522125736191585, 0.514772222981847, 0.10837309957512568, 0.9786373959397473, 0.9870207114230842, 0.978637056670278, 0.9870207401395127, 0.9809844705074666, 0.03725815270115926, 0.6333885959197073, 0.3353233743104333, 0.37725906492451333, 0.6036145038792213, 0.1648778272079171, 0.8243891360395854, 0.9703757840971489, 0.5237170777015027, 0.4189736621612021, 0.05237170777015026, 0.8657484627516893, 0.1820331142415386, 0.7281324569661544, 0.7806638824273702, 0.885281396120326, 0.6006760648440879, 0.30033803242204393, 0.20442324173357418, 0.7154813460675097, 0.10221162086678709, 0.9293173473187554, 0.9263244229816683, 0.29144932859399525, 0.38859910479199367, 0.29144932859399525, 0.8815626950396168, 0.9455547381744129, 0.1465376261464315, 0.8792257568785891, 0.28152394744564113, 0.7507305265217097, 0.8832355722532125, 0.4289750929566258, 0.5719667906088344, 0.7958182748285452, 0.16424401938357708, 0.8212200969178854, 0.9964770767348623, 0.9786372439900962, 0.9964770760452217, 0.9964767391293021, 0.8652962815516074, 0.1442160469252679, 0.8940762980591223, 0.14901271634318702, 0.5883375262555132, 0.21394091863836845, 0.21394091863836845, 0.734703665494551, 0.24490122183151702, 0.8852814078351685, 0.7648022763727909, 0.10925746805325584, 0.10925746805325584, 0.8832356131763687, 0.9786371492680398, 0.9786372309415587, 0.7009132542954599, 0.21903539196733124, 0.08761415678693249, 0.8621857119945009, 0.08621857119945009, 0.9703757856309739, 0.733970402808989, 0.9055787302187668, 0.9786372032160717, 0.9984392214331506, 0.9506719342157482, 0.9786371157132657, 0.2845176538356413, 0.14225882691782066, 0.5690353076712826, 0.5617528034345474, 0.37450186895636495, 0.062416978159394156, 0.9786370808347504, 0.8652966000459001, 0.14421610000765003, 0.15753975764247835, 0.3150795152849567, 0.6301590305699134, 1.0005438185507, 0.9055785933912208, 0.733970415540144, 0.8852813656131862, 0.780663620414531, 0.3178287526081057, 0.3178287526081057, 0.42377167014414097, 0.9540589513809412, 0.8630028879571505, 0.16487781089088402, 0.8243890544544201, 0.17893919541335562, 0.17893919541335562, 0.7157567816534225, 0.5684868400103216, 0.3498380553909671, 0.08745951384774177, 0.08238685044378745, 0.906255354881662, 0.7958180377554084, 0.6581786050417195, 0.32908930252085977, 0.10969643417361992, 0.885281430627472, 0.9964768350462867, 0.9263247406553059], \"Term\": [\"aci\", \"adhi\", \"ajar\", \"akuntabel\", \"akuntabilitas\", \"anggar\", \"anggar\", \"antre\", \"aparatur\", \"aplikasi\", \"aplikasi\", \"arief\", \"bahas\", \"bandara\", \"bandung\", \"bandungcirebon\", \"bangun\", \"bangun\", \"bangun\", \"bank\", \"bank\", \"bantu\", \"banyuwangi\", \"barang\", \"barang\", \"barang\", \"barangjasa\", \"barangjasa\", \"barat\", \"bayar\", \"bayar\", \"belanja\", \"beli\", \"beli\", \"bendahara\", \"berantas\", \"berkas\", \"biaya\", \"biaya\", \"bpmptsp\", \"branko\", \"btmu\", \"buka\", \"buka\", \"buka\", \"capai\", \"capai\", \"capai\", \"cari\", \"cari\", \"cegah\", \"cepat\", \"cepat\", \"cepat\", \"cisumdawu\", \"daerah\", \"daerah\", \"daerah\", \"data\", \"data\", \"daya\", \"donny\", \"duduk\", \"duduk\", \"elektronik\", \"elektronik\", \"elektronik\", \"etendering\", \"fase\", \"fasilitas\", \"fasilitas\", \"fjb\", \"forum\", \"gamawan\", \"golong\", \"harga\", \"harga\", \"hendrar\", \"hubung\", \"hubung\", \"ijin\", \"ijin\", \"ilmu\", \"informasi\", \"informasi\", \"informasi\", \"informatika\", \"investasi\", \"izin\", \"jalan\", \"jalan\", \"jalan\", \"jasa\", \"jasa\", \"jawa\", \"jembatan\", \"jual\", \"kartu\", \"kas\", \"kenal\", \"kerja\", \"kerja\", \"kerja\", \"kirim\", \"km\", \"kolaborasi\", \"konstruksi\", \"korupsi\", \"kota\", \"kota\", \"kota\", \"kpk\", \"kpk\", \"ktp\", \"ktp\", \"lahan\", \"layan\", \"layan\", \"layan\", \"lebaran\", \"libat\", \"libat\", \"libur\", \"ltunnel\", \"manfaat\", \"manfaat\", \"masyarakat\", \"masyarakat\", \"masyarakat\", \"meter\", \"metode\", \"milik\", \"milik\", \"milik\", \"modal\", \"modul\", \"mohon\", \"mohon\", \"mudah\", \"mudah\", \"nasabah\", \"negara\", \"negara\", \"of\", \"online\", \"online\", \"optimal\", \"partisipasi\", \"pasok\", \"pemkot\", \"penuh\", \"penuh\", \"perijinan\", \"perijinan\", \"perintah\", \"perintah\", \"perintah\", \"persen\", \"persen\", \"pidana\", \"pilih\", \"pilih\", \"pilih\", \"presiden\", \"prinsip\", \"prosedur\", \"proses\", \"proses\", \"proses\", \"publik\", \"publik\", \"pupr\", \"rtunnel\", \"saku\", \"sederhana\", \"semarang\", \"sikap\", \"simpel\", \"sipil\", \"sipil\", \"sipil\", \"sistem\", \"sistem\", \"sistem\", \"spesifikasi\", \"surat\", \"surat\", \"tangan\", \"tangan\", \"tangan\", \"tangerang\", \"teknologi\", \"tempuh\", \"tindak\", \"tinggal\", \"tingkat\", \"tingkat\", \"tingkat\", \"tol\", \"transaksi\", \"uang\", \"uang\", \"upaya\", \"upaya\", \"upaya\", \"usaha\", \"usaha\", \"usaha\", \"vendor\", \"vendor\", \"walikota\", \"warga\", \"warga\", \"warga\", \"wida\", \"wismansyah\", \"yusuf\"]}, \"R\": 30, \"lambda.step\": 0.01, \"plot.opts\": {\"xlab\": \"PC1\", \"ylab\": \"PC2\"}, \"topic.order\": [2, 3, 1]};\n",
              "\n",
              "function LDAvis_load_lib(url, callback){\n",
              "  var s = document.createElement('script');\n",
              "  s.src = url;\n",
              "  s.async = true;\n",
              "  s.onreadystatechange = s.onload = callback;\n",
              "  s.onerror = function(){console.warn(\"failed to load library \" + url);};\n",
              "  document.getElementsByTagName(\"head\")[0].appendChild(s);\n",
              "}\n",
              "\n",
              "if(typeof(LDAvis) !== \"undefined\"){\n",
              "   // already loaded: just create the visualization\n",
              "   !function(LDAvis){\n",
              "       new LDAvis(\"#\" + \"ldavis_el1711345360261748808557741362\", ldavis_el1711345360261748808557741362_data);\n",
              "   }(LDAvis);\n",
              "}else if(typeof define === \"function\" && define.amd){\n",
              "   // require.js is available: use it to load d3/LDAvis\n",
              "   require.config({paths: {d3: \"https://d3js.org/d3.v5\"}});\n",
              "   require([\"d3\"], function(d3){\n",
              "      window.d3 = d3;\n",
              "      LDAvis_load_lib(\"https://cdn.jsdelivr.net/gh/bmabey/pyLDAvis/pyLDAvis/js/ldavis.v3.0.0.js\", function(){\n",
              "        new LDAvis(\"#\" + \"ldavis_el1711345360261748808557741362\", ldavis_el1711345360261748808557741362_data);\n",
              "      });\n",
              "    });\n",
              "}else{\n",
              "    // require.js not available: dynamically load d3 & LDAvis\n",
              "    LDAvis_load_lib(\"https://d3js.org/d3.v5.js\", function(){\n",
              "         LDAvis_load_lib(\"https://cdn.jsdelivr.net/gh/bmabey/pyLDAvis/pyLDAvis/js/ldavis.v3.0.0.js\", function(){\n",
              "                 new LDAvis(\"#\" + \"ldavis_el1711345360261748808557741362\", ldavis_el1711345360261748808557741362_data);\n",
              "            })\n",
              "         });\n",
              "}\n",
              "</script>"
            ]
          },
          "metadata": {},
          "execution_count": 39
        }
      ]
    }
  ]
}