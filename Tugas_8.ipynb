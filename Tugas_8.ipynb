{
  "nbformat": 4,
  "nbformat_minor": 0,
  "metadata": {
    "colab": {
      "provenance": []
    },
    "kernelspec": {
      "name": "python3",
      "display_name": "Python 3"
    },
    "language_info": {
      "name": "python"
    }
  },
  "cells": [
    {
      "cell_type": "code",
      "execution_count": 1,
      "metadata": {
        "colab": {
          "base_uri": "https://localhost:8080/"
        },
        "id": "XdzbECI9AE_p",
        "outputId": "723cc0b2-a667-46f3-9c59-a3e6ffe4a7ee"
      },
      "outputs": [
        {
          "output_type": "stream",
          "name": "stdout",
          "text": [
            "Requirement already satisfied: nltk in /usr/local/lib/python3.10/dist-packages (3.8.1)\n",
            "Requirement already satisfied: click in /usr/local/lib/python3.10/dist-packages (from nltk) (8.1.7)\n",
            "Requirement already satisfied: joblib in /usr/local/lib/python3.10/dist-packages (from nltk) (1.3.2)\n",
            "Requirement already satisfied: regex>=2021.8.3 in /usr/local/lib/python3.10/dist-packages (from nltk) (2023.6.3)\n",
            "Requirement already satisfied: tqdm in /usr/local/lib/python3.10/dist-packages (from nltk) (4.66.1)\n"
          ]
        }
      ],
      "source": [
        "pip install nltk"
      ]
    },
    {
      "cell_type": "code",
      "source": [
        "import io\n",
        "import random\n",
        "import string\n",
        "import warnings\n",
        "import numpy as np\n",
        "from sklearn.feature_extraction.text import TfidfVectorizer\n",
        "from sklearn.metrics.pairwise import cosine_similarity\n",
        "import warnings\n",
        "warnings.filterwarnings(\"ignore\")\n",
        "import nltk\n",
        "from nltk.stem import WordNetLemmatizer\n",
        "nltk.download(\"popular\", quiet=True)"
      ],
      "metadata": {
        "colab": {
          "base_uri": "https://localhost:8080/"
        },
        "id": "OBhUaFu0ESPG",
        "outputId": "405974c3-4762-430f-900e-942dedf4c226"
      },
      "execution_count": 5,
      "outputs": [
        {
          "output_type": "execute_result",
          "data": {
            "text/plain": [
              "True"
            ]
          },
          "metadata": {},
          "execution_count": 5
        }
      ]
    },
    {
      "cell_type": "code",
      "source": [
        "from google.colab import drive\n",
        "drive.mount('/content/drive')\n",
        "f = open('./drive/MyDrive/Colab Notebooks/chatbot.txt', 'r')\n",
        "raw=f.read()\n",
        "raw = raw.lower()# converts to lowercase\n",
        "sent_tokens = nltk.sent_tokenize(raw)# converts to list of sentences\n",
        "word_tokens = nltk.word_tokenize(raw)# converts to list of words\n",
        ""
      ],
      "metadata": {
        "colab": {
          "base_uri": "https://localhost:8080/"
        },
        "id": "D540nv2WEV7Z",
        "outputId": "ca65b80b-09c8-4b95-d187-f7a01698f061"
      },
      "execution_count": 14,
      "outputs": [
        {
          "output_type": "stream",
          "name": "stdout",
          "text": [
            "Drive already mounted at /content/drive; to attempt to forcibly remount, call drive.mount(\"/content/drive\", force_remount=True).\n"
          ]
        }
      ]
    },
    {
      "cell_type": "code",
      "source": [
        "lemmer = nltk.stem.WordNetLemmatizer()\n",
        "#WordNet is a semantically-oriented dictionary of English included in NLTK.\n",
        "def LemTokens(tokens):\n",
        "  return [lemmer.lemmatize(token) for token in tokens]\n",
        "remove_punct_dict = dict((ord(punct), None) for punct in string.punctuation)\n",
        "def LemNormalize(text):\n",
        "  return LemTokens(nltk.word_tokenize(text.lower().translate(remove_punct_dict)))"
      ],
      "metadata": {
        "id": "vVx6lngoUQgz"
      },
      "execution_count": 15,
      "outputs": []
    },
    {
      "cell_type": "code",
      "source": [
        "GREETING_INPUTS = [\"hello\", \"hi\", \"greetings\", \"sup\", \"what’s up\",\"hey\",\"yo\"]\n",
        "GREETING_RESPONSES = [\"hi\", \"hey\", \"*nods*\", \"hi there\", \"hello\", \"I am glad! You are talking to me\"]\n",
        "def greeting(sentence):\n",
        "  for word in sentence.split():\n",
        "   if word.lower() in GREETING_INPUTS:\n",
        "    return random.choice(GREETING_RESPONSES)"
      ],
      "metadata": {
        "id": "_EGKnokZUT6L"
      },
      "execution_count": 16,
      "outputs": []
    },
    {
      "cell_type": "code",
      "source": [
        "def response(user_response):\n",
        " spar_response=\"\"\n",
        " sent_tokens.append(user_response)\n",
        " TfidfVec = TfidfVectorizer(tokenizer=LemNormalize, stop_words=\"english\")\n",
        " tfidf = TfidfVec.fit_transform(sent_tokens)\n",
        " vals = cosine_similarity(tfidf[-1], tfidf)\n",
        " idx=vals.argsort()[0][-2]\n",
        " flat = vals.flatten()\n",
        " flat.sort()\n",
        " req_tfidf = flat[-2]\n",
        " if(req_tfidf==0):\n",
        "  spar_response=spar_response+'I don’t understand you'\n",
        "  return spar_response\n",
        " else:\n",
        "  spar_response = spar_response+sent_tokens[idx]\n",
        "  return spar_response"
      ],
      "metadata": {
        "id": "OJxyKweBU0Yf"
      },
      "execution_count": 17,
      "outputs": []
    },
    {
      "cell_type": "code",
      "source": [
        "flag=True\n",
        "print(\"Spar: My name is Spar. I will answer your queries about Chatbots. If you want to exit, type Bye!\")\n",
        "while(flag==True):\n",
        " user_response = input()\n",
        " user_response=user_response.lower()\n",
        " if(user_response!='bye'):\n",
        "  if(user_response=='thanks' or user_response=='thank you' ):\n",
        "    flag=False\n",
        "    print('Spar: You are welcome..')\n",
        "  else:\n",
        "    if(greeting(user_response)!=None):\n",
        "      print('Spar: '+greeting(user_response))\n",
        "    else:\n",
        "     print('Spar: ',end='')\n",
        "     print(response(user_response))\n",
        "     sent_tokens.remove(user_response)\n",
        " else:\n",
        "  flag=False"
      ],
      "metadata": {
        "colab": {
          "base_uri": "https://localhost:8080/"
        },
        "id": "-haNl6ZxU3u1",
        "outputId": "00792435-495b-41e8-8518-0776c3786a0e"
      },
      "execution_count": null,
      "outputs": [
        {
          "output_type": "stream",
          "name": "stdout",
          "text": [
            "Spar: My name is Spar. I will answer your queries about Chatbots. If you want to exit, type Bye!\n"
          ]
        }
      ]
    }
  ]
}